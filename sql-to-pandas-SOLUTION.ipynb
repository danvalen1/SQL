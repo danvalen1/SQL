{
 "cells": [
  {
   "cell_type": "markdown",
   "metadata": {
    "slideshow": {
     "slide_type": "slide"
    }
   },
   "source": [
    "![sql](./img/sql-logo.jpg)\n",
    "\n",
    "# A beginner's guide to databases, SQL, & using them with `pandas`"
   ]
  },
  {
   "cell_type": "markdown",
   "metadata": {
    "slideshow": {
     "slide_type": "slide"
    }
   },
   "source": [
    "**Scenario:** You are a data analyst for the Homeland Security, trying to create reports on the active airports world wide. The data you need to access is in a SQL database. You need to be able to query for the data in a database!"
   ]
  },
  {
   "cell_type": "markdown",
   "metadata": {
    "slideshow": {
     "slide_type": "slide"
    }
   },
   "source": [
    "## Learning goals:\n",
    "- Goal 1: Summarize the use case for sql in the data science skill set\n",
    "- Goal 2: Define key sql terminology\n",
    "- Goal 3: Get information about DB schema and table structure\n",
    "- Goal 4: Use basic SQL commands:\n",
    "    - Construct SQL queries\n",
    "    - Use `JOIN` to merge tables along logical columns\n",
    "    - Grouping Data with SQL, inlcuding `HAVING`\n",
    "- Goal 5: Convert SQL to pandas"
   ]
  },
  {
   "cell_type": "markdown",
   "metadata": {
    "slideshow": {
     "slide_type": "slide"
    }
   },
   "source": [
    "## Goal 1: Summarize\n",
    "\n",
    "To date the data we've seen has looked like [this.](https://data.austintexas.gov/Health-and-Community-Services/Austin-Animal-Center-Intakes/wter-evkm)\n",
    "\n",
    "That is how we need data to look to run analysis and build models.<br>\n",
    "But it doesn't _live_ there in it's native state."
   ]
  },
  {
   "cell_type": "markdown",
   "metadata": {
    "slideshow": {
     "slide_type": "slide"
    }
   },
   "source": [
    "[Netflix has a great article](https://medium.com/netflix-techblog/notebook-innovation-591ee3221233) describing three different data roles at their company, their different needs, and their toolsets.\n",
    "\n",
    "![netflix](./img/netflix-data-roles.jpeg)\n",
    "\n",
    "Examining that graphic, SQL shows up as one of the tools of the _Data Engineer_ "
   ]
  },
  {
   "cell_type": "markdown",
   "metadata": {
    "slideshow": {
     "slide_type": "slide"
    }
   },
   "source": [
    "Data Engineers provide the essential data architecture services that make data science possible.\n",
    "\n",
    "![hierarchy](./img/ai-hierachy.png)\n",
    "\n",
    "[Source: Monica Rogati’s fantastic Medium post “The AI Hierarchy of Needs”\n",
    "](https://hackernoon.com/the-ai-hierarchy-of-needs-18f111fcc007)"
   ]
  },
  {
   "cell_type": "markdown",
   "metadata": {},
   "source": [
    "## What does it mean to **Engineer Data**?\n",
    "\n",
    "Let's start with a basic scenario:<br>\n",
    "You are HR. You have *no* current database. \n",
    "How would you set it up?\n",
    "\n",
    "Data needs considerations:\n",
    "- What you want to store\n",
    "- What \"views\" you anticipate wanting in the future\n",
    "\n",
    "Structure considerations:\n",
    "- Speed of retrieval\n",
    "- How much data you are accessing\n",
    "- How much you are storing"
   ]
  },
  {
   "cell_type": "markdown",
   "metadata": {
    "slideshow": {
     "slide_type": "slide"
    }
   },
   "source": [
    "![etl](./img/etl.png)\n",
    "\n",
    "[img source: Jeff Hammerbacher’s slide from UC Berkeley CS 194 course ](https://bcourses.berkeley.edu/courses/1377158/pages/cs-194-16-introduction-to-data-science-fall-2015)"
   ]
  },
  {
   "cell_type": "markdown",
   "metadata": {
    "slideshow": {
     "slide_type": "slide"
    }
   },
   "source": [
    "### What is a Relational Database? \n",
    "\n",
    "![rdb](./img/relational-dbms-model.png)\n",
    "[reference for image ](https://www.studytonight.com/dbms/database-model.php)"
   ]
  },
  {
   "cell_type": "markdown",
   "metadata": {
    "slideshow": {
     "slide_type": "slide"
    }
   },
   "source": [
    "### POPULAR RDBMS\n",
    "\n",
    "- SQLite\n",
    "- MySQL\n",
    "- PostgreSql\n",
    "- Oracle DB\n",
    "- SQL Server"
   ]
  },
  {
   "cell_type": "markdown",
   "metadata": {},
   "source": [
    "***\n",
    "### SQL\n",
    "\n",
    "[History of SQL](https://www.businessnewsdaily.com/5804-what-is-sql.html)\n",
    "\n",
    "> Future users of large data banks must be protected from having to know how the data is organized in the machine (the internal representation). A prompting service which supplies such information is not a satisfactory solution. Activities of users at terminals and most application programs should remain unaffected when the internal representation of data is changed and even when some aspects of the external representation are changed. Changes in data representation will often be needed as a result of changes in query, update, and report traffic and natural growth in the types of stored information.\n",
    ".\n",
    ".\n",
    ".<br>\n",
    "<br>\n",
    "In Section 1 a relational model of data is proposed as a basis for protecting users of formatted data systems from the potentially disruptive changes in data representation caused by growth in the data bank and changes in traffic.\n",
    "\n",
    "[The original SQL paper from the 1970s.](https://www.seas.upenn.edu/~zives/03f/cis550/codd.pdf)"
   ]
  },
  {
   "cell_type": "markdown",
   "metadata": {
    "slideshow": {
     "slide_type": "slide"
    }
   },
   "source": [
    "***\n",
    "## Goal 2: Database terminology\n",
    "\n",
    "### Relational Database Schema\n",
    "\n",
    "![schema](./img/MySQL_Schema_Music_Example.png)\n",
    "\n",
    "[source of image](https://database.guide/what-is-a-database-schema/)"
   ]
  },
  {
   "cell_type": "markdown",
   "metadata": {
    "slideshow": {
     "slide_type": "slide"
    }
   },
   "source": [
    "***\n",
    "### SQLite\n",
    "\n",
    "<img src=\"./img/SQLite-Python.jpg\" width=500>\n",
    "\n",
    "\"SQLite is a C library that provides a lightweight disk-based database that doesn’t require a separate server process and allows accessing the database using a nonstandard variant of the SQL query language. Some applications can use SQLite for internal data storage. It’s also possible to prototype an application using SQLite and then port the code to a larger database such as PostgreSQL or Oracle.\" - [sqlite documentation](https://docs.python.org/2/library/sqlite3.html)\n",
    "\n"
   ]
  },
  {
   "cell_type": "markdown",
   "metadata": {
    "slideshow": {
     "slide_type": "slide"
    }
   },
   "source": [
    "## But what about connecting to database servers?\n",
    "\n",
    "To connect to other database types there are many different libraries:\n",
    "- Oracle: [cx_Oracle](https://oracle.github.io/python-cx_Oracle/)\n",
    "- MySQL: [MySQL-python](https://github.com/farcepest/MySQLdb1)\n",
    "- PostgreSQL: [Psycopg2](http://initd.org/psycopg/docs/)\n",
    "- Microsoft SQL Server: [pymssql](http://www.pymssql.org/en/stable/)\n",
    "\n",
    "These all implement [PEP 249: DB API v2](https://www.python.org/dev/peps/pep-0249/)"
   ]
  },
  {
   "cell_type": "markdown",
   "metadata": {
    "slideshow": {
     "slide_type": "slide"
    }
   },
   "source": [
    "### The Structure of a SQL Query"
   ]
  },
  {
   "cell_type": "markdown",
   "metadata": {
    "slideshow": {
     "slide_type": "slide"
    }
   },
   "source": [
    "<img src='./img/sql_statement.jpg'/>"
   ]
  },
  {
   "cell_type": "markdown",
   "metadata": {
    "slideshow": {
     "slide_type": "slide"
    }
   },
   "source": [
    "***\n",
    "## Goal 3: Get going with sqlite!"
   ]
  },
  {
   "cell_type": "code",
   "execution_count": null,
   "metadata": {
    "slideshow": {
     "slide_type": "fragment"
    }
   },
   "outputs": [],
   "source": [
    "import sqlite3"
   ]
  },
  {
   "cell_type": "markdown",
   "metadata": {
    "slideshow": {
     "slide_type": "slide"
    }
   },
   "source": [
    "#### Load a DB object with `connect` and `cursor`\n",
    "\n",
    "**Connection object** is your connection to the database, close that when you're done talking to the database all together. \n",
    "\n",
    "**Cursor object** is an iterator over a result set from a query. "
   ]
  },
  {
   "cell_type": "code",
   "execution_count": null,
   "metadata": {
    "slideshow": {
     "slide_type": "fragment"
    }
   },
   "outputs": [],
   "source": [
    "con = sqlite3.connect('data/flights.db')\n",
    "cursor = con.cursor()"
   ]
  },
  {
   "cell_type": "markdown",
   "metadata": {
    "slideshow": {
     "slide_type": "slide"
    }
   },
   "source": [
    "#### Use sqlite_master to find all the tables in the schema\n",
    "Get the schema of a database from a db in sqlite\n",
    "\n",
    "The `.excecute()` function will execute a sql statement and our `fetchall()` function will give us a list of all rows matching the execute statement."
   ]
  },
  {
   "cell_type": "code",
   "execution_count": null,
   "metadata": {},
   "outputs": [],
   "source": [
    "cursor.execute(\"SELECT name FROM sqlite_master WHERE type='table';\")\n",
    "print(cursor.fetchall())"
   ]
  },
  {
   "cell_type": "code",
   "execution_count": null,
   "metadata": {},
   "outputs": [],
   "source": [
    "cursor.description"
   ]
  },
  {
   "cell_type": "code",
   "execution_count": null,
   "metadata": {},
   "outputs": [],
   "source": [
    "cursor.execute(\"SELECT name, type FROM sqlite_master;\")\n",
    "print(cursor.fetchall())"
   ]
  },
  {
   "cell_type": "markdown",
   "metadata": {
    "slideshow": {
     "slide_type": "slide"
    }
   },
   "source": [
    "#### Get information about one table\n",
    "\n",
    "**A note about** `execute`<br>\n",
    "Each time you use it, you reset the value of cursor"
   ]
  },
  {
   "cell_type": "code",
   "execution_count": null,
   "metadata": {},
   "outputs": [],
   "source": [
    "cursor.execute(\"SELECT * FROM airports as a;\").fetchone()"
   ]
  },
  {
   "cell_type": "code",
   "execution_count": null,
   "metadata": {},
   "outputs": [],
   "source": [
    "cursor.fetchone()"
   ]
  },
  {
   "cell_type": "code",
   "execution_count": null,
   "metadata": {},
   "outputs": [],
   "source": [
    "cursor.fetchmany(4)"
   ]
  },
  {
   "cell_type": "markdown",
   "metadata": {
    "slideshow": {
     "slide_type": "slide"
    }
   },
   "source": [
    "#### Use description"
   ]
  },
  {
   "cell_type": "code",
   "execution_count": null,
   "metadata": {
    "slideshow": {
     "slide_type": "fragment"
    }
   },
   "outputs": [],
   "source": [
    "cursor.description"
   ]
  },
  {
   "cell_type": "markdown",
   "metadata": {
    "slideshow": {
     "slide_type": "slide"
    }
   },
   "source": [
    "#### Or use `Pragma`\n",
    "`Pragma` tool [link here](https://www.sqlite.org/pragma.html#pragma_table_info)\n",
    "\n",
    "**output**<br>\n",
    "`(column id, column name, data type, whether or not the column can be NULL, and the default value for the column)`"
   ]
  },
  {
   "cell_type": "code",
   "execution_count": null,
   "metadata": {
    "slideshow": {
     "slide_type": "slide"
    }
   },
   "outputs": [],
   "source": [
    "cursor.execute(\"PRAGMA table_info(airports);\")\n",
    "info = cursor.fetchall()\n",
    "print(*info, sep = \"\\n\") "
   ]
  },
  {
   "cell_type": "markdown",
   "metadata": {
    "slideshow": {
     "slide_type": "slide"
    }
   },
   "source": [
    "#### Making fetch happen\n",
    "\n",
    "`.fetchall()` is how you get the query results out of the object.\n",
    "\n",
    "You can also `.fetchone()` or `.fetchmany()`"
   ]
  },
  {
   "cell_type": "markdown",
   "metadata": {
    "slideshow": {
     "slide_type": "slide"
    }
   },
   "source": [
    "**Task:** Get the descriptive data for airlines and routes tables"
   ]
  },
  {
   "cell_type": "code",
   "execution_count": null,
   "metadata": {},
   "outputs": [],
   "source": [
    "cursor.execute(\"PRAGMA table_info(airlines);\")\n",
    "info = cursor.fetchall()\n",
    "print(*info, sep = \"\\n\")"
   ]
  },
  {
   "cell_type": "code",
   "execution_count": null,
   "metadata": {},
   "outputs": [],
   "source": [
    "cursor.execute(\"PRAGMA table_info(routes);\")\n",
    "info = cursor.fetchall()\n",
    "print(*info, sep = \"\\n\")"
   ]
  },
  {
   "cell_type": "markdown",
   "metadata": {
    "slideshow": {
     "slide_type": "slide"
    }
   },
   "source": [
    "***\n",
    "## Goal 4: Use basic SQL commands \n",
    "- Construct SQL queries\n",
    "- Use JOIN to merge tables along logical columns\n",
    "- Grouping Data with SQL"
   ]
  },
  {
   "cell_type": "markdown",
   "metadata": {
    "slideshow": {
     "slide_type": "slide"
    }
   },
   "source": [
    "### Construct SQL queries"
   ]
  },
  {
   "cell_type": "markdown",
   "metadata": {
    "slideshow": {
     "slide_type": "fragment"
    }
   },
   "source": [
    "**Select**"
   ]
  },
  {
   "cell_type": "markdown",
   "metadata": {
    "slideshow": {
     "slide_type": "fragment"
    }
   },
   "source": [
    "**From**"
   ]
  },
  {
   "cell_type": "markdown",
   "metadata": {
    "slideshow": {
     "slide_type": "fragment"
    }
   },
   "source": [
    "**Where**"
   ]
  },
  {
   "cell_type": "markdown",
   "metadata": {
    "slideshow": {
     "slide_type": "fragment"
    }
   },
   "source": [
    "**Order by**"
   ]
  },
  {
   "cell_type": "markdown",
   "metadata": {
    "slideshow": {
     "slide_type": "fragment"
    }
   },
   "source": [
    "**Limit**"
   ]
  },
  {
   "cell_type": "markdown",
   "metadata": {
    "slideshow": {
     "slide_type": "slide"
    }
   },
   "source": [
    "#### Options for each:"
   ]
  },
  {
   "cell_type": "markdown",
   "metadata": {
    "slideshow": {
     "slide_type": "fragment"
    }
   },
   "source": [
    "**Select**:  `distinct`, using `as` to rename columns, single number aggregates"
   ]
  },
  {
   "cell_type": "markdown",
   "metadata": {
    "slideshow": {
     "slide_type": "fragment"
    }
   },
   "source": [
    "**From:** also uses aliasing with `as`"
   ]
  },
  {
   "cell_type": "markdown",
   "metadata": {
    "slideshow": {
     "slide_type": "fragment"
    }
   },
   "source": [
    "**Where**: equals is only one `=`, `between`, `in`, wildcards `%`, `AND`, `OR`, `NOT`"
   ]
  },
  {
   "cell_type": "markdown",
   "metadata": {
    "slideshow": {
     "slide_type": "fragment"
    }
   },
   "source": [
    "**Order by**: `asc` and `desc`"
   ]
  },
  {
   "cell_type": "markdown",
   "metadata": {
    "slideshow": {
     "slide_type": "fragment"
    }
   },
   "source": [
    "**Limit**:  #"
   ]
  },
  {
   "cell_type": "markdown",
   "metadata": {
    "slideshow": {
     "slide_type": "slide"
    }
   },
   "source": [
    "**Task**: \n",
    "- Select only active airlines in the UK from the airlines table\n",
    "- Select the unique list of countries with airports"
   ]
  },
  {
   "cell_type": "code",
   "execution_count": 13,
   "metadata": {},
   "outputs": [
    {
     "data": {
      "text/plain": [
       "[('Astraeus',),\n",
       " ('Air Southwest',),\n",
       " ('Aurigny Air Services',),\n",
       " ('Air Wales',),\n",
       " ('AD Aviation',),\n",
       " ('Air Foyle',),\n",
       " ('British Airways',),\n",
       " ('British International Helicopters',),\n",
       " ('bmi',),\n",
       " ('bmibaby',),\n",
       " ('British Midland Regional',),\n",
       " ('British Mediterranean Airways',),\n",
       " ('BA CityFlyer',),\n",
       " ('Crest Aviation',),\n",
       " ('Eastern Airways',),\n",
       " ('Excel Airways',),\n",
       " ('Excel Charter',),\n",
       " ('easyJet',),\n",
       " ('First Choice Airways',),\n",
       " ('Flightline',),\n",
       " ('Flybe',),\n",
       " ('Flyglobespan',),\n",
       " ('GB Airways',),\n",
       " ('Highland Airways',),\n",
       " ('Jet2.com',),\n",
       " ('Monarch Airlines',),\n",
       " ('MyTravel Airways',),\n",
       " ('Norfolk County Flight College',),\n",
       " ('Kinloss Flying Training Unit',),\n",
       " ('ScotAirways',),\n",
       " ('Thomas Cook Airlines',),\n",
       " ('Thomsonfly',),\n",
       " ('Virgin Atlantic Airways',),\n",
       " ('Jc royal.britannica',),\n",
       " ('Royal European Airlines',),\n",
       " ('CB Airways UK ( Interliging Flights )',),\n",
       " ('Air Cudlua',),\n",
       " ('BBN-Airways',),\n",
       " ('Rainbow Air Euro',),\n",
       " ('All Europe',)]"
      ]
     },
     "execution_count": 13,
     "metadata": {},
     "output_type": "execute_result"
    }
   ],
   "source": [
    "cursor.execute(\"\"\"\n",
    "SELECT name\n",
    "FROM airlines\n",
    "WHERE active = 'Y'\n",
    "  AND country = 'United Kingdom';\n",
    "\"\"\")\n",
    "cursor.fetchall()"
   ]
  },
  {
   "cell_type": "code",
   "execution_count": 14,
   "metadata": {},
   "outputs": [
    {
     "data": {
      "text/plain": [
       "[('Papua New Guinea',),\n",
       " ('Greenland',),\n",
       " ('Iceland',),\n",
       " ('Canada',),\n",
       " ('Algeria',),\n",
       " ('Benin',),\n",
       " ('Burkina Faso',),\n",
       " ('Ghana',),\n",
       " (\"Cote d'Ivoire\",),\n",
       " ('Nigeria',),\n",
       " ('Niger',),\n",
       " ('Tunisia',),\n",
       " ('Togo',),\n",
       " ('Belgium',),\n",
       " ('Germany',),\n",
       " ('United States',),\n",
       " ('Estonia',),\n",
       " ('Finland',),\n",
       " ('United Kingdom',),\n",
       " ('Guernsey',),\n",
       " ('Jersey',),\n",
       " ('Isle of Man',),\n",
       " ('Falkland Islands',),\n",
       " ('Netherlands',),\n",
       " ('Ireland',),\n",
       " ('Denmark',),\n",
       " ('Faroe Islands',),\n",
       " ('Luxembourg',),\n",
       " ('Norway',),\n",
       " ('Poland',),\n",
       " ('Sweden',),\n",
       " ('South Africa',),\n",
       " ('Botswana',),\n",
       " ('Congo (Brazzaville)',),\n",
       " ('Congo (Kinshasa)',),\n",
       " ('Swaziland',),\n",
       " ('Central African Republic',),\n",
       " ('Equatorial Guinea',),\n",
       " ('Saint Helena',),\n",
       " ('Mauritius',),\n",
       " ('British Indian Ocean Territory',),\n",
       " ('Cameroon',),\n",
       " ('Zambia',),\n",
       " ('Comoros',),\n",
       " ('Mayotte',),\n",
       " ('Reunion',),\n",
       " ('Madagascar',),\n",
       " ('Angola',),\n",
       " ('Puerto Rico',),\n",
       " ('Gabon',),\n",
       " ('Sao Tome and Principe',),\n",
       " ('Mozambique',),\n",
       " ('Seychelles',),\n",
       " ('Chad',),\n",
       " ('Zimbabwe',),\n",
       " ('Malawi',),\n",
       " ('Lesotho',),\n",
       " ('Mali',),\n",
       " ('Gambia',),\n",
       " ('Spain',),\n",
       " ('Sierra Leone',),\n",
       " ('Guinea-Bissau',),\n",
       " ('Liberia',),\n",
       " ('Morocco',),\n",
       " ('Senegal',),\n",
       " ('Mauritania',),\n",
       " ('Guinea',),\n",
       " ('Cape Verde',),\n",
       " ('Ethiopia',),\n",
       " ('Maldives',),\n",
       " ('Burundi',),\n",
       " ('Somalia',),\n",
       " ('Egypt',),\n",
       " ('Kenya',),\n",
       " ('Libya',),\n",
       " ('Rwanda',),\n",
       " ('Sudan',),\n",
       " ('South Sudan',),\n",
       " ('Tanzania',),\n",
       " ('Uganda',),\n",
       " ('Albania',),\n",
       " ('Bulgaria',),\n",
       " ('Cyprus',),\n",
       " ('Croatia',),\n",
       " ('Greece',),\n",
       " ('France',),\n",
       " ('Saint Pierre and Miquelon',),\n",
       " ('Hungary',),\n",
       " ('Italy',),\n",
       " ('Slovenia',),\n",
       " ('Czech Republic',),\n",
       " ('Israel',),\n",
       " ('Malta',),\n",
       " ('Austria',),\n",
       " ('Portugal',),\n",
       " ('Bosnia and Herzegovina',),\n",
       " ('Romania',),\n",
       " ('Switzerland',),\n",
       " ('Turkey',),\n",
       " ('Moldova',),\n",
       " ('Macedonia',),\n",
       " ('Gibraltar',),\n",
       " ('Serbia',),\n",
       " ('Montenegro',),\n",
       " ('Slovakia',),\n",
       " ('Turks and Caicos Islands',),\n",
       " ('Dominican Republic',),\n",
       " ('Guatemala',),\n",
       " ('Honduras',),\n",
       " ('Jamaica',),\n",
       " ('Mexico',),\n",
       " ('Nicaragua',),\n",
       " ('Panama',),\n",
       " ('Costa Rica',),\n",
       " ('El Salvador',),\n",
       " ('Haiti',),\n",
       " ('Cuba',),\n",
       " ('Cayman Islands',),\n",
       " ('Bahamas',),\n",
       " ('Belize',),\n",
       " ('Cook Islands',),\n",
       " ('Fiji',),\n",
       " ('Tonga',),\n",
       " ('Kiribati',),\n",
       " ('Australia',),\n",
       " ('Wallis and Futuna',),\n",
       " ('Samoa',),\n",
       " ('American Samoa',),\n",
       " ('French Polynesia',),\n",
       " ('Vanuatu',),\n",
       " ('New Caledonia',),\n",
       " ('New Zealand',),\n",
       " ('Antarctica',),\n",
       " ('Afghanistan',),\n",
       " ('Bahrain',),\n",
       " ('Saudi Arabia',),\n",
       " ('Iran',),\n",
       " ('Argentina',),\n",
       " ('Jordan',),\n",
       " ('West Bank',),\n",
       " ('Kuwait',),\n",
       " ('Lebanon',),\n",
       " ('United Arab Emirates',),\n",
       " ('Oman',),\n",
       " ('Pakistan',),\n",
       " ('Iraq',),\n",
       " ('Syria',),\n",
       " ('Qatar',),\n",
       " ('Northern Mariana Islands',),\n",
       " ('Guam',),\n",
       " ('Marshall Islands',),\n",
       " ('Midway Islands',),\n",
       " ('Micronesia',),\n",
       " ('Palau',),\n",
       " ('Taiwan',),\n",
       " ('Japan',),\n",
       " ('South Korea',),\n",
       " ('Philippines',),\n",
       " ('Turkmenistan',),\n",
       " ('Brazil',),\n",
       " ('Chile',),\n",
       " ('Ecuador',),\n",
       " ('Paraguay',),\n",
       " ('Colombia',),\n",
       " ('Bolivia',),\n",
       " ('Suriname',),\n",
       " ('French Guiana',),\n",
       " ('Peru',),\n",
       " ('Uruguay',),\n",
       " ('Venezuela',),\n",
       " ('Guyana',),\n",
       " ('Antigua and Barbuda',),\n",
       " ('Barbados',),\n",
       " ('Dominica',),\n",
       " ('Martinique',),\n",
       " ('Guadeloupe',),\n",
       " ('Grenada',),\n",
       " ('Virgin Islands',),\n",
       " ('Saint Kitts and Nevis',),\n",
       " ('Saint Lucia',),\n",
       " ('Aruba',),\n",
       " ('Netherlands Antilles',),\n",
       " ('Anguilla',),\n",
       " ('Trinidad and Tobago',),\n",
       " ('British Virgin Islands',),\n",
       " ('Saint Vincent and the Grenadines',),\n",
       " ('Kazakhstan',),\n",
       " ('Kyrgyzstan',),\n",
       " ('Azerbaijan',),\n",
       " ('Russia',),\n",
       " ('Ukraine',),\n",
       " ('Belarus',),\n",
       " ('Tajikistan',),\n",
       " ('Uzbekistan',),\n",
       " ('India',),\n",
       " ('Sri Lanka',),\n",
       " ('Cambodia',),\n",
       " ('Bangladesh',),\n",
       " ('Hong Kong',),\n",
       " ('Laos',),\n",
       " ('Macau',),\n",
       " ('Nepal',),\n",
       " ('Bhutan',),\n",
       " ('Thailand',),\n",
       " ('Indonesia',),\n",
       " ('Vietnam',),\n",
       " ('Burma',),\n",
       " ('Malaysia',),\n",
       " ('Brunei',),\n",
       " ('East Timor',),\n",
       " ('Singapore',),\n",
       " ('Christmas Island',),\n",
       " ('Norfolk Island',),\n",
       " ('China',),\n",
       " ('Korea',),\n",
       " ('Mongolia',),\n",
       " ('Latvia',),\n",
       " ('Lithuania',),\n",
       " ('Armenia',),\n",
       " ('Eritrea',),\n",
       " ('Palestine',),\n",
       " ('Yemen',),\n",
       " ('Georgia',),\n",
       " ('Bermuda',),\n",
       " ('Solomon Islands',),\n",
       " ('Nauru',),\n",
       " ('Tuvalu',),\n",
       " ('Namibia',),\n",
       " ('Djibouti',),\n",
       " ('Montserrat',),\n",
       " ('Monaco',),\n",
       " ('Johnston Atoll',),\n",
       " ('Niue',),\n",
       " ('Western Sahara',),\n",
       " ('Cocos (Keeling) Islands',),\n",
       " ('South Georgia and the Islands',),\n",
       " ('Myanmar',),\n",
       " ('Svalbard',),\n",
       " ('North Korea',),\n",
       " ('Wake Island',)]"
      ]
     },
     "execution_count": 14,
     "metadata": {},
     "output_type": "execute_result"
    }
   ],
   "source": [
    "cursor.execute(\n",
    "\"\"\"\n",
    "SELECT DISTINCT country\n",
    "FROM airports;\n",
    "\"\"\"\n",
    ").fetchall()"
   ]
  },
  {
   "cell_type": "markdown",
   "metadata": {
    "slideshow": {
     "slide_type": "slide"
    }
   },
   "source": [
    "### SQL Joins"
   ]
  },
  {
   "cell_type": "markdown",
   "metadata": {
    "slideshow": {
     "slide_type": "fragment"
    }
   },
   "source": [
    "SQL joins can be used to both **add** data to a table and **remove** data from a table. "
   ]
  },
  {
   "cell_type": "markdown",
   "metadata": {
    "slideshow": {
     "slide_type": "fragment"
    }
   },
   "source": [
    "<img src=\"./img/venn.png\" width=550>"
   ]
  },
  {
   "cell_type": "markdown",
   "metadata": {
    "slideshow": {
     "slide_type": "slide"
    }
   },
   "source": [
    "**Task** Write a query that will join the latitude and longitude data from the airports table to the information on the routes table"
   ]
  },
  {
   "cell_type": "code",
   "execution_count": 15,
   "metadata": {
    "slideshow": {
     "slide_type": "skip"
    }
   },
   "outputs": [
    {
     "data": {
      "text/plain": [
       "[(0,\n",
       "  '2B',\n",
       "  '410',\n",
       "  'AER',\n",
       "  '2965',\n",
       "  'KZN',\n",
       "  '2990',\n",
       "  None,\n",
       "  '0',\n",
       "  'CR2',\n",
       "  2910,\n",
       "  '2990',\n",
       "  'Kazan',\n",
       "  'Kazan',\n",
       "  'Russia',\n",
       "  'KZN',\n",
       "  'UWKD',\n",
       "  '55.606186',\n",
       "  '49.278728',\n",
       "  '411',\n",
       "  '4',\n",
       "  'N',\n",
       "  'Europe/Moscow'),\n",
       " (1,\n",
       "  '2B',\n",
       "  '410',\n",
       "  'ASF',\n",
       "  '2966',\n",
       "  'KZN',\n",
       "  '2990',\n",
       "  None,\n",
       "  '0',\n",
       "  'CR2',\n",
       "  2910,\n",
       "  '2990',\n",
       "  'Kazan',\n",
       "  'Kazan',\n",
       "  'Russia',\n",
       "  'KZN',\n",
       "  'UWKD',\n",
       "  '55.606186',\n",
       "  '49.278728',\n",
       "  '411',\n",
       "  '4',\n",
       "  'N',\n",
       "  'Europe/Moscow'),\n",
       " (2,\n",
       "  '2B',\n",
       "  '410',\n",
       "  'ASF',\n",
       "  '2966',\n",
       "  'MRV',\n",
       "  '2962',\n",
       "  None,\n",
       "  '0',\n",
       "  'CR2',\n",
       "  2883,\n",
       "  '2962',\n",
       "  'Mineralnyye Vody',\n",
       "  'Mineralnye Vody',\n",
       "  'Russia',\n",
       "  'MRV',\n",
       "  'URMM',\n",
       "  '44.225072',\n",
       "  '43.081889',\n",
       "  '1054',\n",
       "  '4',\n",
       "  'N',\n",
       "  'Europe/Moscow'),\n",
       " (3,\n",
       "  '2B',\n",
       "  '410',\n",
       "  'CEK',\n",
       "  '2968',\n",
       "  'KZN',\n",
       "  '2990',\n",
       "  None,\n",
       "  '0',\n",
       "  'CR2',\n",
       "  2910,\n",
       "  '2990',\n",
       "  'Kazan',\n",
       "  'Kazan',\n",
       "  'Russia',\n",
       "  'KZN',\n",
       "  'UWKD',\n",
       "  '55.606186',\n",
       "  '49.278728',\n",
       "  '411',\n",
       "  '4',\n",
       "  'N',\n",
       "  'Europe/Moscow'),\n",
       " (4,\n",
       "  '2B',\n",
       "  '410',\n",
       "  'CEK',\n",
       "  '2968',\n",
       "  'OVB',\n",
       "  '4078',\n",
       "  None,\n",
       "  '0',\n",
       "  'CR2',\n",
       "  3969,\n",
       "  '4078',\n",
       "  'Tolmachevo',\n",
       "  'Novosibirsk',\n",
       "  'Russia',\n",
       "  'OVB',\n",
       "  'UNNT',\n",
       "  '55.012622',\n",
       "  '82.650656',\n",
       "  '365',\n",
       "  '7',\n",
       "  'N',\n",
       "  'Asia/Omsk')]"
      ]
     },
     "execution_count": 15,
     "metadata": {},
     "output_type": "execute_result"
    }
   ],
   "source": [
    "cursor.execute(\"\"\"\n",
    "SELECT *\n",
    "FROM routes as r\n",
    "JOIN airports as a\n",
    "ON a.code=r.dest;\n",
    "\"\"\").fetchmany(5)"
   ]
  },
  {
   "cell_type": "markdown",
   "metadata": {
    "slideshow": {
     "slide_type": "slide"
    }
   },
   "source": [
    "### Grouping statements\n",
    "\n",
    "Combines `select` and `group by` when you want aggregates by values"
   ]
  },
  {
   "cell_type": "markdown",
   "metadata": {
    "slideshow": {
     "slide_type": "fragment"
    }
   },
   "source": [
    "`select` `min(x)` ... `max()`, `sum()`, etc"
   ]
  },
  {
   "cell_type": "markdown",
   "metadata": {
    "slideshow": {
     "slide_type": "fragment"
    }
   },
   "source": [
    "`group by x`"
   ]
  },
  {
   "cell_type": "markdown",
   "metadata": {
    "slideshow": {
     "slide_type": "slide"
    }
   },
   "source": [
    "### Let's answer some questions\n",
    "\n",
    "- Which countries have the highest amount of active airlines?\n",
    "- Which countries have the highest amount of inactive airlines?"
   ]
  },
  {
   "cell_type": "code",
   "execution_count": 16,
   "metadata": {
    "slideshow": {
     "slide_type": "skip"
    }
   },
   "outputs": [
    {
     "name": "stdout",
     "output_type": "stream",
     "text": [
      "(141, 'United States')\n",
      "(72, 'Russia')\n",
      "(40, 'United Kingdom')\n",
      "(37, 'Germany')\n",
      "(34, 'Canada')\n",
      "(26, 'Australia')\n",
      "(25, 'China')\n",
      "(24, 'Spain')\n",
      "(23, 'Brazil')\n",
      "(22, 'France')\n",
      "(19, 'Japan')\n",
      "(18, 'Italy')\n",
      "(17, 'Indonesia')\n",
      "(17, 'India')\n",
      "(16, 'Turkey')\n",
      "(16, 'Thailand')\n",
      "(15, 'Sweden')\n",
      "(14, 'Switzerland')\n",
      "(13, 'Ukraine')\n",
      "(13, 'Portugal')\n",
      "(12, 'Mexico')\n",
      "(12, 'Finland')\n",
      "(12, 'Egypt')\n",
      "(12, 'Austria')\n",
      "(11, 'Peru')\n"
     ]
    }
   ],
   "source": [
    "# Which countries have the highest amount of active airports?\n",
    "cursor.execute(\"\"\"\n",
    "SELECT COUNT() as num, country\n",
    "FROM airlines\n",
    "WHERE active='Y'\n",
    "GROUP BY country\n",
    "HAVING num > 10\n",
    "ORDER BY num DESC\n",
    "LIMIT 30;\n",
    "\"\"\")\n",
    "print(*cursor.fetchall(), sep='\\n')"
   ]
  },
  {
   "cell_type": "code",
   "execution_count": 17,
   "metadata": {
    "slideshow": {
     "slide_type": "skip"
    }
   },
   "outputs": [
    {
     "name": "stdout",
     "output_type": "stream",
     "text": [
      "(939, 'United States')\n",
      "(427, 'Mexico')\n",
      "(367, 'United Kingdom')\n",
      "(284, 'Canada')\n",
      "(158, 'Russia')\n",
      "(142, 'Spain')\n",
      "(97, 'France')\n",
      "(94, 'Germany')\n",
      "(81, 'South Africa')\n",
      "(80, 'Nigeria')\n",
      "(76, 'Ukraine')\n",
      "(73, 'Kazakhstan')\n",
      "(72, 'Italy')\n",
      "(67, 'Australia')\n",
      "(55, 'Sweden')\n",
      "(47, 'Sudan')\n",
      "(46, 'Switzerland')\n",
      "(45, 'China')\n",
      "(43, 'Netherlands')\n",
      "(38, 'Austria')\n",
      "(36, 'Egypt')\n",
      "(35, 'Chile')\n",
      "(35, 'Brazil')\n",
      "(35, 'Angola')\n",
      "(34, 'Colombia')\n",
      "(32, 'Thailand')\n",
      "(32, 'Portugal')\n",
      "(32, 'Mauritania')\n",
      "(31, 'Indonesia')\n",
      "(29, 'Kyrgyzstan')\n"
     ]
    }
   ],
   "source": [
    "# Which countries have the highest amount of inactive airports?\n",
    "cursor.execute(\"\"\"\n",
    "SELECT COUNT() num, country\n",
    "FROM airlines\n",
    "WHERE active='N'\n",
    "GROUP BY country\n",
    "HAVING num > 10\n",
    "ORDER BY num DESC\n",
    "LIMIT 30;\n",
    "\"\"\")\n",
    "print(*cursor.fetchall(), sep='\\n')"
   ]
  },
  {
   "cell_type": "markdown",
   "metadata": {
    "slideshow": {
     "slide_type": "slide"
    }
   },
   "source": [
    "### Your turn!\n",
    "\n",
    "In your group write some code to answer the following question:\n",
    "\n",
    "- What are the number of airports for each time zone?  Each row should have a number of airports and a time zone."
   ]
  },
  {
   "cell_type": "code",
   "execution_count": 18,
   "metadata": {
    "slideshow": {
     "slide_type": "skip"
    }
   },
   "outputs": [
    {
     "name": "stdout",
     "output_type": "stream",
     "text": [
      "\n"
     ]
    }
   ],
   "source": [
    "# What about airports by timezones?\n",
    "cursor.execute(\"\"\"\n",
    "-- your code here;\"\"\")\n",
    "print(*cursor.fetchall(), sep='\\n')"
   ]
  },
  {
   "cell_type": "code",
   "execution_count": 19,
   "metadata": {},
   "outputs": [
    {
     "data": {
      "text/plain": [
       "[(628, 'America/New_York'),\n",
       " (373, 'America/Chicago'),\n",
       " (319, 'Europe/Berlin'),\n",
       " (258, 'America/Anchorage'),\n",
       " (232, 'Europe/Paris'),\n",
       " (226, 'America/Los_Angeles'),\n",
       " (222, 'Asia/Chongqing'),\n",
       " (193, 'Europe/London'),\n",
       " (159, 'America/Toronto'),\n",
       " (141, 'Asia/Calcutta'),\n",
       " (135, 'America/Denver'),\n",
       " (131, 'Asia/Tokyo'),\n",
       " (104, 'America/Cordoba'),\n",
       " (104, 'Africa/Johannesburg'),\n",
       " (100, 'Europe/Moscow'),\n",
       " (97, 'America/Sao_Paulo'),\n",
       " (93, 'Europe/Rome'),\n",
       " (92, '\\\\N'),\n",
       " (86, 'Europe/Stockholm'),\n",
       " (81, 'Australia/Brisbane'),\n",
       " (81, 'Asia/Tehran'),\n",
       " (78, 'America/Vancouver'),\n",
       " (77, 'Europe/Istanbul'),\n",
       " (74, 'Europe/Madrid'),\n",
       " (72, 'America/Bogota'),\n",
       " (67, 'Europe/Oslo'),\n",
       " (66, 'America/Edmonton'),\n",
       " (65, 'America/Winnipeg'),\n",
       " (65, 'America/Mexico_City'),\n",
       " (63, 'Asia/Manila'),\n",
       " (60, 'Europe/Athens'),\n",
       " (58, 'Asia/Bangkok'),\n",
       " (58, 'America/Caracas'),\n",
       " (57, 'Pacific/Port_Moresby'),\n",
       " (54, 'Pacific/Auckland'),\n",
       " (54, 'Africa/Nairobi'),\n",
       " (52, 'Australia/Sydney'),\n",
       " (52, 'America/Boa_Vista'),\n",
       " (50, 'Europe/Zurich'),\n",
       " (50, 'Europe/Helsinki'),\n",
       " (49, 'Asia/Jakarta'),\n",
       " (46, 'Asia/Karachi'),\n",
       " (45, 'Indian/Antananarivo'),\n",
       " (45, 'Australia/Perth'),\n",
       " (45, 'Asia/Kuala_Lumpur'),\n",
       " (44, 'America/Fortaleza'),\n",
       " (44, 'Africa/Algiers'),\n",
       " (43, 'Asia/Rangoon'),\n",
       " (43, 'America/Lima'),\n",
       " (42, 'Asia/Riyadh'),\n",
       " (42, 'Asia/Makassar'),\n",
       " (42, 'America/Phoenix'),\n",
       " (41, 'Europe/Amsterdam'),\n",
       " (38, 'Indian/Maldives'),\n",
       " (37, 'America/Santiago'),\n",
       " (37, 'America/Nassau'),\n",
       " (36, 'Asia/Katmandu'),\n",
       " (35, 'Europe/Warsaw'),\n",
       " (35, 'Europe/Brussels'),\n",
       " (35, 'America/Guayaquil'),\n",
       " (33, 'Europe/Kiev'),\n",
       " (32, 'Pacific/Majuro'),\n",
       " (32, 'Asia/Taipei'),\n",
       " (31, 'Africa/Addis_Ababa'),\n",
       " (30, 'Europe/Vienna'),\n",
       " (30, 'Asia/Seoul'),\n",
       " (30, 'Asia/Saigon'),\n",
       " (29, 'Pacific/Efate'),\n",
       " (29, 'Asia/Yekaterinburg'),\n",
       " (29, 'America/Havana'),\n",
       " (29, 'America/Costa_Rica'),\n",
       " (28, 'Europe/Copenhagen'),\n",
       " (28, 'Africa/Dar_es_Salaam'),\n",
       " (27, 'Europe/Prague'),\n",
       " (27, 'America/La_Paz'),\n",
       " (27, 'America/Halifax'),\n",
       " (27, 'Africa/Lagos'),\n",
       " (26, 'Pacific/Guadalcanal'),\n",
       " (26, 'Europe/Lisbon'),\n",
       " (26, 'Europe/Bucharest'),\n",
       " (26, 'America/Panama'),\n",
       " (25, 'Pacific/Tahiti'),\n",
       " (25, 'Pacific/Honolulu'),\n",
       " (25, 'Africa/Luanda'),\n",
       " (25, 'Africa/Gaborone'),\n",
       " (24, 'Asia/Irkutsk'),\n",
       " (23, 'Europe/Dublin'),\n",
       " (23, 'Australia/Adelaide'),\n",
       " (23, 'America/Paramaribo'),\n",
       " (22, 'Australia/Hobart'),\n",
       " (22, 'Australia/Darwin'),\n",
       " (22, 'Atlantic/Reykjavik'),\n",
       " (22, 'Asia/Kabul'),\n",
       " (22, 'America/Godthab'),\n",
       " (22, 'Africa/Tripoli'),\n",
       " (22, 'Africa/Maputo'),\n",
       " (22, 'Africa/Casablanca'),\n",
       " (21, 'Asia/Yakutsk'),\n",
       " (21, 'Asia/Qyzylorda'),\n",
       " (21, 'Asia/Jayapura'),\n",
       " (21, 'America/Cayenne'),\n",
       " (21, 'Africa/Cairo'),\n",
       " (20, 'Asia/Jerusalem'),\n",
       " (19, 'Asia/Vladivostok'),\n",
       " (19, 'Asia/Dubai'),\n",
       " (19, 'Antarctica/South_Pole'),\n",
       " (18, 'America/Regina'),\n",
       " (18, 'Africa/Windhoek'),\n",
       " (18, 'Africa/Kinshasa'),\n",
       " (17, 'Pacific/Fiji'),\n",
       " (17, 'Asia/Omsk'),\n",
       " (16, 'Asia/Magadan'),\n",
       " (16, 'Asia/Krasnoyarsk'),\n",
       " (16, 'America/Mazatlan'),\n",
       " (16, 'Africa/Harare'),\n",
       " (15, 'Asia/Colombo'),\n",
       " (15, 'America/Puerto_Rico'),\n",
       " (15, 'America/Campo_Grande'),\n",
       " (15, 'Africa/Lubumbashi'),\n",
       " (14, 'Europe/Budapest'),\n",
       " (14, 'America/Santo_Domingo'),\n",
       " (14, 'America/Port-au-Prince'),\n",
       " (14, 'America/Guyana'),\n",
       " (14, 'Africa/Libreville'),\n",
       " (14, 'Africa/Khartoum'),\n",
       " (13, 'Europe/Zagreb'),\n",
       " (13, 'Asia/Phnom_Penh'),\n",
       " (13, 'Asia/Hong_Kong'),\n",
       " (13, 'Asia/Dhaka'),\n",
       " (13, 'Africa/Tunis'),\n",
       " (13, 'Africa/Lusaka'),\n",
       " (12, 'Asia/Samarkand'),\n",
       " (12, 'America/Montevideo'),\n",
       " (12, 'America/Belize'),\n",
       " (11, 'Pacific/Noumea'),\n",
       " (11, 'Asia/Vientiane'),\n",
       " (11, 'Asia/Ulaanbaatar'),\n",
       " (11, 'Asia/Aden'),\n",
       " (11, 'America/Tegucigalpa'),\n",
       " (11, 'America/Managua'),\n",
       " (11, 'Africa/Nouakchott'),\n",
       " (11, 'Africa/Mogadishu'),\n",
       " (10, 'Indian/Reunion'),\n",
       " (10, 'Indian/Mahe'),\n",
       " (10, 'Atlantic/Canary'),\n",
       " (10, 'Atlantic/Azores'),\n",
       " (10, 'Asia/Baghdad'),\n",
       " (10, 'America/Guatemala'),\n",
       " (10, 'Africa/Douala'),\n",
       " (9, 'Europe/Tallinn'),\n",
       " (9, 'Asia/Baku'),\n",
       " (9, 'America/St_Johns'),\n",
       " (9, 'Africa/Kampala'),\n",
       " (9, 'Africa/Dakar'),\n",
       " (8, 'Pacific/Tarawa'),\n",
       " (8, 'Pacific/Rarotonga'),\n",
       " (8, 'Europe/Vilnius'),\n",
       " (8, 'Europe/Minsk'),\n",
       " (8, 'Europe/Bratislava'),\n",
       " (8, 'Asia/Ashgabat'),\n",
       " (8, 'America/St_Thomas'),\n",
       " (8, 'America/Curacao'),\n",
       " (8, 'America/Asuncion'),\n",
       " (8, 'Africa/Freetown'),\n",
       " (8, 'Africa/Blantyre'),\n",
       " (8, 'Africa/Bamako'),\n",
       " (7, 'Europe/Sofia'),\n",
       " (7, 'Europe/Malta'),\n",
       " (7, 'Australia/Melbourne'),\n",
       " (7, 'Atlantic/Cape_Verde'),\n",
       " (7, 'Asia/Oral'),\n",
       " (7, 'Arctic/Longyearbyen'),\n",
       " (7, 'America/Jamaica'),\n",
       " (7, 'America/Blanc-Sablon'),\n",
       " (7, 'Africa/Niamey'),\n",
       " (7, 'Africa/Ndjamena'),\n",
       " (7, 'Africa/Juba'),\n",
       " (7, 'Africa/Abidjan'),\n",
       " (6, 'Pacific/Tongatapu'),\n",
       " (6, 'Asia/Singapore'),\n",
       " (6, 'Asia/Pyongyang'),\n",
       " (6, 'Asia/Muscat'),\n",
       " (6, 'Asia/Damascus'),\n",
       " (6, 'Asia/Amman'),\n",
       " (6, 'America/Tijuana'),\n",
       " (6, 'America/Guadeloupe'),\n",
       " (6, 'America/Grand_Turk'),\n",
       " (6, 'Africa/Conakry'),\n",
       " (6, 'Africa/Accra'),\n",
       " (5, 'Europe/Ljubljana'),\n",
       " (5, 'Atlantic/Stanley'),\n",
       " (5, 'Asia/Tbilisi'),\n",
       " (5, 'America/St_Vincent'),\n",
       " (5, 'America/Hermosillo'),\n",
       " (5, 'Africa/Brazzaville'),\n",
       " (4, 'Pacific/Marquesas'),\n",
       " (4, 'Pacific/Apia'),\n",
       " (4, 'Indian/Comoro'),\n",
       " (4, 'Europe/Sarajevo'),\n",
       " (4, 'Europe/Belgrade'),\n",
       " (4, 'Asia/Yerevan'),\n",
       " (4, 'Asia/Nicosia'),\n",
       " (4, 'Asia/Macau'),\n",
       " (4, 'Asia/Dushanbe'),\n",
       " (4, 'Asia/Bishkek'),\n",
       " (4, 'America/Martinique'),\n",
       " (4, 'Africa/Kigali'),\n",
       " (4, 'Africa/Asmera'),\n",
       " (3, 'Pacific/Truk'),\n",
       " (3, 'Pacific/Saipan'),\n",
       " (3, 'Pacific/Palau'),\n",
       " (3, 'Pacific/Pago_Pago'),\n",
       " (3, 'Pacific/Galapagos'),\n",
       " (3, 'Europe/Riga'),\n",
       " (3, 'Europe/Chisinau'),\n",
       " (3, 'Atlantic/Faeroe'),\n",
       " (3, 'Asia/Qatar'),\n",
       " (3, 'Asia/Hovd'),\n",
       " (3, 'Asia/Dili'),\n",
       " (3, 'America/St_Lucia'),\n",
       " (3, 'America/St_Kitts'),\n",
       " (3, 'America/Rio_Branco'),\n",
       " (3, 'America/Grenada'),\n",
       " (3, 'America/Dominica'),\n",
       " (3, 'America/Coral_Harbour'),\n",
       " (3, 'America/Cayman'),\n",
       " (3, 'Africa/Monrovia'),\n",
       " (3, 'Africa/Maseru'),\n",
       " (3, 'Africa/El_Aaiun'),\n",
       " (3, 'Africa/Djibouti'),\n",
       " (3, 'Africa/Bangui'),\n",
       " (2, 'Pacific/Wallis'),\n",
       " (2, 'Pacific/Guam'),\n",
       " (2, 'Pacific/Chatham'),\n",
       " (2, 'Indian/Mauritius'),\n",
       " (2, 'Europe/Skopje'),\n",
       " (2, 'Europe/Podgorica'),\n",
       " (2, 'Europe/Guernsey'),\n",
       " (2, 'Atlantic/St_Helena'),\n",
       " (2, 'Atlantic/South_Georgia'),\n",
       " (2, 'Atlantic/Bermuda'),\n",
       " (2, 'Asia/Kuwait'),\n",
       " (2, 'Asia/Gaza'),\n",
       " (2, 'Asia/Brunei'),\n",
       " (2, 'Asia/Beirut'),\n",
       " (2, 'Asia/Bahrain'),\n",
       " (2, 'America/Tortola'),\n",
       " (2, 'America/Thule'),\n",
       " (2, 'America/Scoresbysund'),\n",
       " (2, 'America/Port_of_Spain'),\n",
       " (2, 'America/Montserrat'),\n",
       " (2, 'America/Miquelon'),\n",
       " (2, 'America/El_Salvador'),\n",
       " (2, 'America/Dawson_Creek'),\n",
       " (2, 'America/Danmarkshavn'),\n",
       " (2, 'America/Antigua'),\n",
       " (2, 'Africa/Sao_Tome'),\n",
       " (2, 'Africa/Ouagadougou'),\n",
       " (2, 'Africa/Malabo'),\n",
       " (2, 'Africa/Lome'),\n",
       " (2, 'Africa/Bissau'),\n",
       " (1, 'Pacific/Wake'),\n",
       " (1, 'Pacific/Ponape'),\n",
       " (1, 'Pacific/Norfolk'),\n",
       " (1, 'Pacific/Niue'),\n",
       " (1, 'Pacific/Nauru'),\n",
       " (1, 'Pacific/Midway'),\n",
       " (1, 'Pacific/Kosrae'),\n",
       " (1, 'Pacific/Johnston'),\n",
       " (1, 'Pacific/Gambier'),\n",
       " (1, 'Pacific/Funafuti'),\n",
       " (1, 'Pacific/Enderbury'),\n",
       " (1, 'Pacific/Easter'),\n",
       " (1, 'Indian/Mayotte'),\n",
       " (1, 'Indian/Cocos'),\n",
       " (1, 'Indian/Christmas'),\n",
       " (1, 'Indian/Chagos'),\n",
       " (1, 'Europe/Vaduz'),\n",
       " (1, 'Europe/Tirane'),\n",
       " (1, 'Europe/Monaco'),\n",
       " (1, 'Europe/Mariehamn'),\n",
       " (1, 'Europe/Luxembourg'),\n",
       " (1, 'Europe/Kaliningrad'),\n",
       " (1, 'Europe/Jersey'),\n",
       " (1, 'Europe/Isle_of_Man'),\n",
       " (1, 'Europe/Gibraltar'),\n",
       " (1, 'Asia/Thimphu'),\n",
       " (1, 'America/Barbados'),\n",
       " (1, 'America/Aruba'),\n",
       " (1, 'America/Anguilla'),\n",
       " (1, 'Africa/Porto-Novo'),\n",
       " (1, 'Africa/Mbabane'),\n",
       " (1, 'Africa/Bujumbura'),\n",
       " (1, 'Africa/Banjul')]"
      ]
     },
     "execution_count": 19,
     "metadata": {},
     "output_type": "execute_result"
    }
   ],
   "source": [
    "#SOLUTION\n",
    "cursor.execute(\"\"\"\n",
    "SELECT COUNT() num, timezone\n",
    "FROM airports\n",
    "GROUP BY timezone\n",
    "ORDER BY num DESC;\n",
    "\"\"\").fetchall()"
   ]
  },
  {
   "cell_type": "code",
   "execution_count": 20,
   "metadata": {},
   "outputs": [],
   "source": [
    "# It's always a good idea to close our connections when we're done\n",
    "cursor.close()\n",
    "con.close()"
   ]
  },
  {
   "cell_type": "markdown",
   "metadata": {},
   "source": [
    "### Using DB Browser for SQLite \n",
    "\n",
    "![](https://sqlitebrowser.org/images/screenshot.png)\n",
    "\n",
    "DB Browser for SQLite is a high quality, visual, open source tool to create, design, and edit database files compatible with SQLite.\n",
    "\n",
    "DB4S is for users and developers who want to create, search, and edit databases. DB4S uses a familiar spreadsheet-like interface, and complicated SQL commands do not have to be learned.\n",
    "\n",
    "#### Let's practice a few queries in DB Browser for SQLite\n"
   ]
  },
  {
   "cell_type": "markdown",
   "metadata": {
    "slideshow": {
     "slide_type": "slide"
    }
   },
   "source": [
    "## Goal 5: Transfering from sqlite to pandas"
   ]
  },
  {
   "cell_type": "code",
   "execution_count": 21,
   "metadata": {
    "slideshow": {
     "slide_type": "fragment"
    }
   },
   "outputs": [
    {
     "data": {
      "text/html": [
       "<div>\n",
       "<style scoped>\n",
       "    .dataframe tbody tr th:only-of-type {\n",
       "        vertical-align: middle;\n",
       "    }\n",
       "\n",
       "    .dataframe tbody tr th {\n",
       "        vertical-align: top;\n",
       "    }\n",
       "\n",
       "    .dataframe thead th {\n",
       "        text-align: right;\n",
       "    }\n",
       "</style>\n",
       "<table border=\"1\" class=\"dataframe\">\n",
       "  <thead>\n",
       "    <tr style=\"text-align: right;\">\n",
       "      <th></th>\n",
       "      <th>index</th>\n",
       "      <th>id</th>\n",
       "      <th>name</th>\n",
       "      <th>city</th>\n",
       "      <th>country</th>\n",
       "      <th>code</th>\n",
       "      <th>icao</th>\n",
       "      <th>latitude</th>\n",
       "      <th>longitude</th>\n",
       "      <th>altitude</th>\n",
       "      <th>offset</th>\n",
       "      <th>dst</th>\n",
       "      <th>timezone</th>\n",
       "    </tr>\n",
       "  </thead>\n",
       "  <tbody>\n",
       "    <tr>\n",
       "      <th>0</th>\n",
       "      <td>0</td>\n",
       "      <td>1</td>\n",
       "      <td>Goroka</td>\n",
       "      <td>Goroka</td>\n",
       "      <td>Papua New Guinea</td>\n",
       "      <td>GKA</td>\n",
       "      <td>AYGA</td>\n",
       "      <td>-6.081689</td>\n",
       "      <td>145.391881</td>\n",
       "      <td>5282</td>\n",
       "      <td>10</td>\n",
       "      <td>U</td>\n",
       "      <td>Pacific/Port_Moresby</td>\n",
       "    </tr>\n",
       "    <tr>\n",
       "      <th>1</th>\n",
       "      <td>1</td>\n",
       "      <td>2</td>\n",
       "      <td>Madang</td>\n",
       "      <td>Madang</td>\n",
       "      <td>Papua New Guinea</td>\n",
       "      <td>MAG</td>\n",
       "      <td>AYMD</td>\n",
       "      <td>-5.207083</td>\n",
       "      <td>145.7887</td>\n",
       "      <td>20</td>\n",
       "      <td>10</td>\n",
       "      <td>U</td>\n",
       "      <td>Pacific/Port_Moresby</td>\n",
       "    </tr>\n",
       "    <tr>\n",
       "      <th>2</th>\n",
       "      <td>2</td>\n",
       "      <td>3</td>\n",
       "      <td>Mount Hagen</td>\n",
       "      <td>Mount Hagen</td>\n",
       "      <td>Papua New Guinea</td>\n",
       "      <td>HGU</td>\n",
       "      <td>AYMH</td>\n",
       "      <td>-5.826789</td>\n",
       "      <td>144.295861</td>\n",
       "      <td>5388</td>\n",
       "      <td>10</td>\n",
       "      <td>U</td>\n",
       "      <td>Pacific/Port_Moresby</td>\n",
       "    </tr>\n",
       "    <tr>\n",
       "      <th>3</th>\n",
       "      <td>3</td>\n",
       "      <td>4</td>\n",
       "      <td>Nadzab</td>\n",
       "      <td>Nadzab</td>\n",
       "      <td>Papua New Guinea</td>\n",
       "      <td>LAE</td>\n",
       "      <td>AYNZ</td>\n",
       "      <td>-6.569828</td>\n",
       "      <td>146.726242</td>\n",
       "      <td>239</td>\n",
       "      <td>10</td>\n",
       "      <td>U</td>\n",
       "      <td>Pacific/Port_Moresby</td>\n",
       "    </tr>\n",
       "    <tr>\n",
       "      <th>4</th>\n",
       "      <td>4</td>\n",
       "      <td>5</td>\n",
       "      <td>Port Moresby Jacksons Intl</td>\n",
       "      <td>Port Moresby</td>\n",
       "      <td>Papua New Guinea</td>\n",
       "      <td>POM</td>\n",
       "      <td>AYPY</td>\n",
       "      <td>-9.443383</td>\n",
       "      <td>147.22005</td>\n",
       "      <td>146</td>\n",
       "      <td>10</td>\n",
       "      <td>U</td>\n",
       "      <td>Pacific/Port_Moresby</td>\n",
       "    </tr>\n",
       "  </tbody>\n",
       "</table>\n",
       "</div>"
      ],
      "text/plain": [
       "   index id                        name          city           country code  \\\n",
       "0      0  1                      Goroka        Goroka  Papua New Guinea  GKA   \n",
       "1      1  2                      Madang        Madang  Papua New Guinea  MAG   \n",
       "2      2  3                 Mount Hagen   Mount Hagen  Papua New Guinea  HGU   \n",
       "3      3  4                      Nadzab        Nadzab  Papua New Guinea  LAE   \n",
       "4      4  5  Port Moresby Jacksons Intl  Port Moresby  Papua New Guinea  POM   \n",
       "\n",
       "   icao   latitude   longitude altitude offset dst              timezone  \n",
       "0  AYGA  -6.081689  145.391881     5282     10   U  Pacific/Port_Moresby  \n",
       "1  AYMD  -5.207083    145.7887       20     10   U  Pacific/Port_Moresby  \n",
       "2  AYMH  -5.826789  144.295861     5388     10   U  Pacific/Port_Moresby  \n",
       "3  AYNZ  -6.569828  146.726242      239     10   U  Pacific/Port_Moresby  \n",
       "4  AYPY  -9.443383   147.22005      146     10   U  Pacific/Port_Moresby  "
      ]
     },
     "execution_count": 21,
     "metadata": {},
     "output_type": "execute_result"
    }
   ],
   "source": [
    "import pandas as pd\n",
    "pd_con = sqlite3.connect(\"./data/flights.db\")\n",
    "df = pd.read_sql_query(\"select * from airports limit 5;\", pd_con)\n",
    "df"
   ]
  },
  {
   "cell_type": "markdown",
   "metadata": {
    "slideshow": {
     "slide_type": "slide"
    }
   },
   "source": [
    "**Task**: \n",
    "Convert one of the earlier queries in the lesson to a pandas data frame"
   ]
  },
  {
   "cell_type": "code",
   "execution_count": 22,
   "metadata": {},
   "outputs": [
    {
     "data": {
      "text/html": [
       "<div>\n",
       "<style scoped>\n",
       "    .dataframe tbody tr th:only-of-type {\n",
       "        vertical-align: middle;\n",
       "    }\n",
       "\n",
       "    .dataframe tbody tr th {\n",
       "        vertical-align: top;\n",
       "    }\n",
       "\n",
       "    .dataframe thead th {\n",
       "        text-align: right;\n",
       "    }\n",
       "</style>\n",
       "<table border=\"1\" class=\"dataframe\">\n",
       "  <thead>\n",
       "    <tr style=\"text-align: right;\">\n",
       "      <th></th>\n",
       "      <th>num</th>\n",
       "      <th>country</th>\n",
       "    </tr>\n",
       "  </thead>\n",
       "  <tbody>\n",
       "    <tr>\n",
       "      <th>0</th>\n",
       "      <td>141</td>\n",
       "      <td>United States</td>\n",
       "    </tr>\n",
       "    <tr>\n",
       "      <th>1</th>\n",
       "      <td>72</td>\n",
       "      <td>Russia</td>\n",
       "    </tr>\n",
       "    <tr>\n",
       "      <th>2</th>\n",
       "      <td>40</td>\n",
       "      <td>United Kingdom</td>\n",
       "    </tr>\n",
       "    <tr>\n",
       "      <th>3</th>\n",
       "      <td>37</td>\n",
       "      <td>Germany</td>\n",
       "    </tr>\n",
       "    <tr>\n",
       "      <th>4</th>\n",
       "      <td>34</td>\n",
       "      <td>Canada</td>\n",
       "    </tr>\n",
       "    <tr>\n",
       "      <th>5</th>\n",
       "      <td>26</td>\n",
       "      <td>Australia</td>\n",
       "    </tr>\n",
       "    <tr>\n",
       "      <th>6</th>\n",
       "      <td>25</td>\n",
       "      <td>China</td>\n",
       "    </tr>\n",
       "    <tr>\n",
       "      <th>7</th>\n",
       "      <td>24</td>\n",
       "      <td>Spain</td>\n",
       "    </tr>\n",
       "    <tr>\n",
       "      <th>8</th>\n",
       "      <td>23</td>\n",
       "      <td>Brazil</td>\n",
       "    </tr>\n",
       "    <tr>\n",
       "      <th>9</th>\n",
       "      <td>22</td>\n",
       "      <td>France</td>\n",
       "    </tr>\n",
       "    <tr>\n",
       "      <th>10</th>\n",
       "      <td>19</td>\n",
       "      <td>Japan</td>\n",
       "    </tr>\n",
       "    <tr>\n",
       "      <th>11</th>\n",
       "      <td>18</td>\n",
       "      <td>Italy</td>\n",
       "    </tr>\n",
       "    <tr>\n",
       "      <th>12</th>\n",
       "      <td>17</td>\n",
       "      <td>Indonesia</td>\n",
       "    </tr>\n",
       "    <tr>\n",
       "      <th>13</th>\n",
       "      <td>17</td>\n",
       "      <td>India</td>\n",
       "    </tr>\n",
       "    <tr>\n",
       "      <th>14</th>\n",
       "      <td>16</td>\n",
       "      <td>Turkey</td>\n",
       "    </tr>\n",
       "    <tr>\n",
       "      <th>15</th>\n",
       "      <td>16</td>\n",
       "      <td>Thailand</td>\n",
       "    </tr>\n",
       "    <tr>\n",
       "      <th>16</th>\n",
       "      <td>15</td>\n",
       "      <td>Sweden</td>\n",
       "    </tr>\n",
       "    <tr>\n",
       "      <th>17</th>\n",
       "      <td>14</td>\n",
       "      <td>Switzerland</td>\n",
       "    </tr>\n",
       "    <tr>\n",
       "      <th>18</th>\n",
       "      <td>13</td>\n",
       "      <td>Ukraine</td>\n",
       "    </tr>\n",
       "    <tr>\n",
       "      <th>19</th>\n",
       "      <td>13</td>\n",
       "      <td>Portugal</td>\n",
       "    </tr>\n",
       "    <tr>\n",
       "      <th>20</th>\n",
       "      <td>12</td>\n",
       "      <td>Mexico</td>\n",
       "    </tr>\n",
       "    <tr>\n",
       "      <th>21</th>\n",
       "      <td>12</td>\n",
       "      <td>Finland</td>\n",
       "    </tr>\n",
       "    <tr>\n",
       "      <th>22</th>\n",
       "      <td>12</td>\n",
       "      <td>Egypt</td>\n",
       "    </tr>\n",
       "    <tr>\n",
       "      <th>23</th>\n",
       "      <td>12</td>\n",
       "      <td>Austria</td>\n",
       "    </tr>\n",
       "    <tr>\n",
       "      <th>24</th>\n",
       "      <td>11</td>\n",
       "      <td>Peru</td>\n",
       "    </tr>\n",
       "  </tbody>\n",
       "</table>\n",
       "</div>"
      ],
      "text/plain": [
       "    num         country\n",
       "0   141   United States\n",
       "1    72          Russia\n",
       "2    40  United Kingdom\n",
       "3    37         Germany\n",
       "4    34          Canada\n",
       "5    26       Australia\n",
       "6    25           China\n",
       "7    24           Spain\n",
       "8    23          Brazil\n",
       "9    22          France\n",
       "10   19           Japan\n",
       "11   18           Italy\n",
       "12   17       Indonesia\n",
       "13   17           India\n",
       "14   16          Turkey\n",
       "15   16        Thailand\n",
       "16   15          Sweden\n",
       "17   14     Switzerland\n",
       "18   13         Ukraine\n",
       "19   13        Portugal\n",
       "20   12          Mexico\n",
       "21   12         Finland\n",
       "22   12           Egypt\n",
       "23   12         Austria\n",
       "24   11            Peru"
      ]
     },
     "execution_count": 22,
     "metadata": {},
     "output_type": "execute_result"
    }
   ],
   "source": [
    "# Which countries have the highest amount of active airports?\n",
    "sql = '''\n",
    "SELECT COUNT() num, country\n",
    "FROM airlines\n",
    "WHERE active='Y'\n",
    "GROUP BY country\n",
    "HAVING num > 10\n",
    "ORDER BY num DESC\n",
    "LIMIT 30;\n",
    "'''\n",
    "pd.read_sql_query(sql, pd_con)"
   ]
  },
  {
   "cell_type": "code",
   "execution_count": 23,
   "metadata": {},
   "outputs": [],
   "source": [
    "pd_con.close()"
   ]
  },
  {
   "cell_type": "markdown",
   "metadata": {
    "slideshow": {
     "slide_type": "slide"
    }
   },
   "source": [
    "## Your Turn!\n",
    "\n",
    "The [Chinook database](https://github.com/lerocha/chinook-database) is a sample database, representing a digital media store.\n",
    "\n",
    "You need to create a query that can rank tracks in term of popularity.\n",
    "\n",
    "The name of the database is `Chinook_Sqlite.sqlite`"
   ]
  },
  {
   "cell_type": "markdown",
   "metadata": {
    "slideshow": {
     "slide_type": "slide"
    }
   },
   "source": [
    "In your group, answer the following questions about the data:\n",
    "- What are the max and min dates in the Invoice table?\n",
    "- What tables would you need to answer \"what is your most popular track?\"\n",
    "- What values from each table?"
   ]
  },
  {
   "cell_type": "code",
   "execution_count": 24,
   "metadata": {
    "slideshow": {
     "slide_type": "skip"
    }
   },
   "outputs": [],
   "source": [
    "conn = sqlite3.connect('data/Chinook_Sqlite.sqlite')\n",
    "cur = conn.cursor()"
   ]
  },
  {
   "cell_type": "code",
   "execution_count": 25,
   "metadata": {},
   "outputs": [
    {
     "ename": "TypeError",
     "evalue": "'NoneType' object is not iterable",
     "output_type": "error",
     "traceback": [
      "\u001b[0;31m---------------------------------------------------------------------------\u001b[0m",
      "\u001b[0;31mTypeError\u001b[0m                                 Traceback (most recent call last)",
      "\u001b[0;32m<ipython-input-25-440d4c2c321c>\u001b[0m in \u001b[0;36m<module>\u001b[0;34m\u001b[0m\n\u001b[1;32m      3\u001b[0m \u001b[0;34m-\u001b[0m\u001b[0;34m-\u001b[0m \u001b[0mYOUR\u001b[0m \u001b[0mCODE\u001b[0m \u001b[0mHERE\u001b[0m\u001b[0;34m\u001b[0m\u001b[0;34m\u001b[0m\u001b[0m\n\u001b[1;32m      4\u001b[0m '''\n\u001b[0;32m----> 5\u001b[0;31m \u001b[0mpd\u001b[0m\u001b[0;34m.\u001b[0m\u001b[0mread_sql_query\u001b[0m\u001b[0;34m(\u001b[0m\u001b[0msql\u001b[0m\u001b[0;34m,\u001b[0m \u001b[0mconn\u001b[0m\u001b[0;34m)\u001b[0m\u001b[0;34m\u001b[0m\u001b[0;34m\u001b[0m\u001b[0m\n\u001b[0m",
      "\u001b[0;32m/anaconda3/lib/python3.7/site-packages/pandas/io/sql.py\u001b[0m in \u001b[0;36mread_sql_query\u001b[0;34m(sql, con, index_col, coerce_float, params, parse_dates, chunksize)\u001b[0m\n\u001b[1;32m    330\u001b[0m         \u001b[0mcoerce_float\u001b[0m\u001b[0;34m=\u001b[0m\u001b[0mcoerce_float\u001b[0m\u001b[0;34m,\u001b[0m\u001b[0;34m\u001b[0m\u001b[0;34m\u001b[0m\u001b[0m\n\u001b[1;32m    331\u001b[0m         \u001b[0mparse_dates\u001b[0m\u001b[0;34m=\u001b[0m\u001b[0mparse_dates\u001b[0m\u001b[0;34m,\u001b[0m\u001b[0;34m\u001b[0m\u001b[0;34m\u001b[0m\u001b[0m\n\u001b[0;32m--> 332\u001b[0;31m         \u001b[0mchunksize\u001b[0m\u001b[0;34m=\u001b[0m\u001b[0mchunksize\u001b[0m\u001b[0;34m,\u001b[0m\u001b[0;34m\u001b[0m\u001b[0;34m\u001b[0m\u001b[0m\n\u001b[0m\u001b[1;32m    333\u001b[0m     )\n\u001b[1;32m    334\u001b[0m \u001b[0;34m\u001b[0m\u001b[0m\n",
      "\u001b[0;32m/anaconda3/lib/python3.7/site-packages/pandas/io/sql.py\u001b[0m in \u001b[0;36mread_query\u001b[0;34m(self, sql, index_col, coerce_float, params, parse_dates, chunksize)\u001b[0m\n\u001b[1;32m   1632\u001b[0m         \u001b[0margs\u001b[0m \u001b[0;34m=\u001b[0m \u001b[0m_convert_params\u001b[0m\u001b[0;34m(\u001b[0m\u001b[0msql\u001b[0m\u001b[0;34m,\u001b[0m \u001b[0mparams\u001b[0m\u001b[0;34m)\u001b[0m\u001b[0;34m\u001b[0m\u001b[0;34m\u001b[0m\u001b[0m\n\u001b[1;32m   1633\u001b[0m         \u001b[0mcursor\u001b[0m \u001b[0;34m=\u001b[0m \u001b[0mself\u001b[0m\u001b[0;34m.\u001b[0m\u001b[0mexecute\u001b[0m\u001b[0;34m(\u001b[0m\u001b[0;34m*\u001b[0m\u001b[0margs\u001b[0m\u001b[0;34m)\u001b[0m\u001b[0;34m\u001b[0m\u001b[0;34m\u001b[0m\u001b[0m\n\u001b[0;32m-> 1634\u001b[0;31m         \u001b[0mcolumns\u001b[0m \u001b[0;34m=\u001b[0m \u001b[0;34m[\u001b[0m\u001b[0mcol_desc\u001b[0m\u001b[0;34m[\u001b[0m\u001b[0;36m0\u001b[0m\u001b[0;34m]\u001b[0m \u001b[0;32mfor\u001b[0m \u001b[0mcol_desc\u001b[0m \u001b[0;32min\u001b[0m \u001b[0mcursor\u001b[0m\u001b[0;34m.\u001b[0m\u001b[0mdescription\u001b[0m\u001b[0;34m]\u001b[0m\u001b[0;34m\u001b[0m\u001b[0;34m\u001b[0m\u001b[0m\n\u001b[0m\u001b[1;32m   1635\u001b[0m \u001b[0;34m\u001b[0m\u001b[0m\n\u001b[1;32m   1636\u001b[0m         \u001b[0;32mif\u001b[0m \u001b[0mchunksize\u001b[0m \u001b[0;32mis\u001b[0m \u001b[0;32mnot\u001b[0m \u001b[0;32mNone\u001b[0m\u001b[0;34m:\u001b[0m\u001b[0;34m\u001b[0m\u001b[0;34m\u001b[0m\u001b[0m\n",
      "\u001b[0;31mTypeError\u001b[0m: 'NoneType' object is not iterable"
     ]
    }
   ],
   "source": [
    "# What are the max and min dates in the Invoice table?\n",
    "sql = '''\n",
    "-- YOUR CODE HERE\n",
    "'''\n",
    "pd.read_sql_query(sql, conn)"
   ]
  },
  {
   "cell_type": "code",
   "execution_count": 26,
   "metadata": {},
   "outputs": [
    {
     "data": {
      "text/html": [
       "<div>\n",
       "<style scoped>\n",
       "    .dataframe tbody tr th:only-of-type {\n",
       "        vertical-align: middle;\n",
       "    }\n",
       "\n",
       "    .dataframe tbody tr th {\n",
       "        vertical-align: top;\n",
       "    }\n",
       "\n",
       "    .dataframe thead th {\n",
       "        text-align: right;\n",
       "    }\n",
       "</style>\n",
       "<table border=\"1\" class=\"dataframe\">\n",
       "  <thead>\n",
       "    <tr style=\"text-align: right;\">\n",
       "      <th></th>\n",
       "      <th>min(InvoiceDate)</th>\n",
       "      <th>max(InvoiceDate)</th>\n",
       "    </tr>\n",
       "  </thead>\n",
       "  <tbody>\n",
       "    <tr>\n",
       "      <th>0</th>\n",
       "      <td>2009-01-01 00:00:00</td>\n",
       "      <td>2013-12-22 00:00:00</td>\n",
       "    </tr>\n",
       "  </tbody>\n",
       "</table>\n",
       "</div>"
      ],
      "text/plain": [
       "      min(InvoiceDate)     max(InvoiceDate)\n",
       "0  2009-01-01 00:00:00  2013-12-22 00:00:00"
      ]
     },
     "execution_count": 26,
     "metadata": {},
     "output_type": "execute_result"
    }
   ],
   "source": [
    "#SOLUTION\n",
    "# What are the max and min dates in the Invoice table?\n",
    "sql = '''\n",
    "Select min(InvoiceDate), max(InvoiceDate)\n",
    "FROM Invoice;\n",
    "'''\n",
    "pd.read_sql_query(sql, conn)"
   ]
  },
  {
   "cell_type": "code",
   "execution_count": null,
   "metadata": {},
   "outputs": [],
   "source": [
    "# What tables would you need to answer \"what is your most popular track?\"\n"
   ]
  },
  {
   "cell_type": "code",
   "execution_count": null,
   "metadata": {},
   "outputs": [],
   "source": [
    "#SOLUTION\n",
    "# What tables would you need to answer \"what is your most popular track?\"\n",
    "#Track & InvoiceLine"
   ]
  },
  {
   "cell_type": "code",
   "execution_count": null,
   "metadata": {},
   "outputs": [],
   "source": [
    "# What values would you need from each table?"
   ]
  },
  {
   "cell_type": "code",
   "execution_count": null,
   "metadata": {},
   "outputs": [],
   "source": [
    "#SOLUTION\n",
    "# What values would you need from each table?\n",
    "# InvoiceLine-trackid, Track-trackid & name"
   ]
  },
  {
   "cell_type": "code",
   "execution_count": null,
   "metadata": {},
   "outputs": [],
   "source": [
    "# Put it all together:\n",
    "# You need to create a query that can rank tracks in term of popularity.\n",
    "\n",
    "sql = '''\n",
    "-- YOUR CODE HERE\n",
    "'''\n",
    "pd.read_sql_query(sql, conn)"
   ]
  },
  {
   "cell_type": "code",
   "execution_count": 27,
   "metadata": {},
   "outputs": [
    {
     "data": {
      "text/html": [
       "<div>\n",
       "<style scoped>\n",
       "    .dataframe tbody tr th:only-of-type {\n",
       "        vertical-align: middle;\n",
       "    }\n",
       "\n",
       "    .dataframe tbody tr th {\n",
       "        vertical-align: top;\n",
       "    }\n",
       "\n",
       "    .dataframe thead th {\n",
       "        text-align: right;\n",
       "    }\n",
       "</style>\n",
       "<table border=\"1\" class=\"dataframe\">\n",
       "  <thead>\n",
       "    <tr style=\"text-align: right;\">\n",
       "      <th></th>\n",
       "      <th>sales</th>\n",
       "      <th>Name</th>\n",
       "    </tr>\n",
       "  </thead>\n",
       "  <tbody>\n",
       "    <tr>\n",
       "      <th>0</th>\n",
       "      <td>2</td>\n",
       "      <td>Balls to the Wall</td>\n",
       "    </tr>\n",
       "    <tr>\n",
       "      <th>1</th>\n",
       "      <td>2</td>\n",
       "      <td>Inject The Venom</td>\n",
       "    </tr>\n",
       "    <tr>\n",
       "      <th>2</th>\n",
       "      <td>2</td>\n",
       "      <td>Snowballed</td>\n",
       "    </tr>\n",
       "    <tr>\n",
       "      <th>3</th>\n",
       "      <td>2</td>\n",
       "      <td>Overdose</td>\n",
       "    </tr>\n",
       "    <tr>\n",
       "      <th>4</th>\n",
       "      <td>2</td>\n",
       "      <td>Deuces Are Wild</td>\n",
       "    </tr>\n",
       "    <tr>\n",
       "      <th>...</th>\n",
       "      <td>...</td>\n",
       "      <td>...</td>\n",
       "    </tr>\n",
       "    <tr>\n",
       "      <th>1979</th>\n",
       "      <td>1</td>\n",
       "      <td>Sing Joyfully</td>\n",
       "    </tr>\n",
       "    <tr>\n",
       "      <th>1980</th>\n",
       "      <td>1</td>\n",
       "      <td>Metopes, Op. 29: Calypso</td>\n",
       "    </tr>\n",
       "    <tr>\n",
       "      <th>1981</th>\n",
       "      <td>1</td>\n",
       "      <td>Symphony No. 2, Op. 16 -  \"The Four Temperamen...</td>\n",
       "    </tr>\n",
       "    <tr>\n",
       "      <th>1982</th>\n",
       "      <td>1</td>\n",
       "      <td>Étude 1, In C Major - Preludio (Presto) - Liszt</td>\n",
       "    </tr>\n",
       "    <tr>\n",
       "      <th>1983</th>\n",
       "      <td>1</td>\n",
       "      <td>Pini Di Roma (Pinien Von Rom) \\ I Pini Della V...</td>\n",
       "    </tr>\n",
       "  </tbody>\n",
       "</table>\n",
       "<p>1984 rows × 2 columns</p>\n",
       "</div>"
      ],
      "text/plain": [
       "      sales                                               Name\n",
       "0         2                                  Balls to the Wall\n",
       "1         2                                   Inject The Venom\n",
       "2         2                                         Snowballed\n",
       "3         2                                           Overdose\n",
       "4         2                                    Deuces Are Wild\n",
       "...     ...                                                ...\n",
       "1979      1                                      Sing Joyfully\n",
       "1980      1                           Metopes, Op. 29: Calypso\n",
       "1981      1  Symphony No. 2, Op. 16 -  \"The Four Temperamen...\n",
       "1982      1    Étude 1, In C Major - Preludio (Presto) - Liszt\n",
       "1983      1  Pini Di Roma (Pinien Von Rom) \\ I Pini Della V...\n",
       "\n",
       "[1984 rows x 2 columns]"
      ]
     },
     "execution_count": 27,
     "metadata": {},
     "output_type": "execute_result"
    }
   ],
   "source": [
    "#SOLUTION\n",
    "# Put it all together:\n",
    "# You need to create a query that can rank tracks in term of popularity.\n",
    "\n",
    "sql = '''\n",
    "Select count(InvoiceLine.TrackId) as sales, Track.Name\n",
    "FROM InvoiceLine \n",
    "JOIN Track \n",
    "ON InvoiceLine.TrackId=Track.TrackId\n",
    "GROUP BY InvoiceLine.TrackId\n",
    "Order BY sales DESC;\n",
    "'''\n",
    "pd.read_sql_query(sql, conn)"
   ]
  },
  {
   "cell_type": "code",
   "execution_count": null,
   "metadata": {},
   "outputs": [],
   "source": [
    "# Advanced: get the artist who sang the song!\n",
    "sql = '''\n",
    "-- YOUR CODE HERE\n",
    "'''\n",
    "pd.read_sql_query(sql, conn)"
   ]
  }
 ],
 "metadata": {
  "kernelspec": {
   "display_name": "Python 3",
   "language": "python",
   "name": "python3"
  },
  "language_info": {
   "codemirror_mode": {
    "name": "ipython",
    "version": 3
   },
   "file_extension": ".py",
   "mimetype": "text/x-python",
   "name": "python",
   "nbconvert_exporter": "python",
   "pygments_lexer": "ipython3",
   "version": "3.7.3"
  }
 },
 "nbformat": 4,
 "nbformat_minor": 4
}

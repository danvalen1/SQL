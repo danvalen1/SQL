{
 "cells": [
  {
   "cell_type": "markdown",
   "metadata": {
    "slideshow": {
     "slide_type": "slide"
    }
   },
   "source": [
    "![sql](./img/sql-logo.jpg)\n",
    "\n",
    "# A beginner's guide to databases, SQL, & using them with `pandas`"
   ]
  },
  {
   "cell_type": "markdown",
   "metadata": {
    "slideshow": {
     "slide_type": "slide"
    }
   },
   "source": [
    "**Scenario:** You are a data analyst for the Homeland Security, trying to create reports on the active airports world wide. The data you need to access is in a SQL database. You need to be able to query for the data in a database!"
   ]
  },
  {
   "cell_type": "markdown",
   "metadata": {
    "slideshow": {
     "slide_type": "slide"
    }
   },
   "source": [
    "## Learning goals:\n",
    "- Goal 1: Summarize the use case for sql in the data science skill set\n",
    "- Goal 2: Define key sql terminology\n",
    "- Goal 3: Get information about DB schema and table structure\n",
    "- Goal 4: Use basic SQL commands:\n",
    "    - Construct SQL queries\n",
    "    - Use `JOIN` to merge tables along logical columns\n",
    "    - Grouping Data with SQL, inlcuding `HAVING`\n",
    "- Goal 5: Convert SQL to pandas"
   ]
  },
  {
   "cell_type": "markdown",
   "metadata": {
    "slideshow": {
     "slide_type": "slide"
    }
   },
   "source": [
    "## Goal 1: Summarize\n",
    "\n",
    "To date the data we've seen has looked like [this.](https://data.austintexas.gov/Health-and-Community-Services/Austin-Animal-Center-Intakes/wter-evkm)\n",
    "\n",
    "That is how we need data to look to run analysis and build models.<br>\n",
    "But it doesn't _live_ there in it's native state."
   ]
  },
  {
   "cell_type": "markdown",
   "metadata": {
    "slideshow": {
     "slide_type": "slide"
    }
   },
   "source": [
    "[Netflix has a great article](https://medium.com/netflix-techblog/notebook-innovation-591ee3221233) describing three different data roles at their company, their different needs, and their toolsets.\n",
    "\n",
    "![netflix](./img/netflix-data-roles.jpeg)\n",
    "\n",
    "Examining that graphic, SQL shows up as one of the tools of the _Data Engineer_ "
   ]
  },
  {
   "cell_type": "markdown",
   "metadata": {
    "slideshow": {
     "slide_type": "slide"
    }
   },
   "source": [
    "Data Engineers provide the essential data architecture services that make data science possible.\n",
    "\n",
    "![hierarchy](./img/ai-hierachy.png)\n",
    "\n",
    "[Source: Monica Rogati’s fantastic Medium post “The AI Hierarchy of Needs”\n",
    "](https://hackernoon.com/the-ai-hierarchy-of-needs-18f111fcc007)"
   ]
  },
  {
   "cell_type": "markdown",
   "metadata": {},
   "source": [
    "## What does it mean to **Engineer Data**?\n",
    "\n",
    "Let's start with a basic scenario:<br>\n",
    "You are HR. You have *no* current database. \n",
    "How would you set it up?\n",
    "\n",
    "Data needs considerations:\n",
    "- What you want to store\n",
    "- What \"views\" you anticipate wanting in the future\n",
    "\n",
    "Structure considerations:\n",
    "- Speed of retrieval\n",
    "- How much data you are accessing\n",
    "- How much you are storing"
   ]
  },
  {
   "cell_type": "markdown",
   "metadata": {
    "slideshow": {
     "slide_type": "slide"
    }
   },
   "source": [
    "![etl](./img/etl.png)\n",
    "\n",
    "[img source: Jeff Hammerbacher’s slide from UC Berkeley CS 194 course ](https://bcourses.berkeley.edu/courses/1377158/pages/cs-194-16-introduction-to-data-science-fall-2015)"
   ]
  },
  {
   "cell_type": "markdown",
   "metadata": {
    "slideshow": {
     "slide_type": "slide"
    }
   },
   "source": [
    "### What is a Relational Database? \n",
    "\n",
    "![rdb](./img/relational-dbms-model.png)\n",
    "[reference for image ](https://www.studytonight.com/dbms/database-model.php)"
   ]
  },
  {
   "cell_type": "markdown",
   "metadata": {
    "slideshow": {
     "slide_type": "slide"
    }
   },
   "source": [
    "### POPULAR RDBMS\n",
    "\n",
    "- SQLite\n",
    "- MySQL\n",
    "- PostgreSql\n",
    "- Oracle DB\n",
    "- SQL Server"
   ]
  },
  {
   "cell_type": "markdown",
   "metadata": {},
   "source": [
    "***\n",
    "### SQL\n",
    "\n",
    "[History of SQL](https://www.businessnewsdaily.com/5804-what-is-sql.html)\n",
    "\n",
    "> Future users of large data banks must be protected from having to know how the data is organized in the machine (the internal representation). A prompting service which supplies such information is not a satisfactory solution. Activities of users at terminals and most application programs should remain unaffected when the internal representation of data is changed and even when some aspects of the external representation are changed. Changes in data representation will often be needed as a result of changes in query, update, and report traffic and natural growth in the types of stored information.\n",
    ".\n",
    ".\n",
    ".<br>\n",
    "<br>\n",
    "In Section 1 a relational model of data is proposed as a basis for protecting users of formatted data systems from the potentially disruptive changes in data representation caused by growth in the data bank and changes in traffic.\n",
    "\n",
    "[The original SQL paper from the 1970s.](https://www.seas.upenn.edu/~zives/03f/cis550/codd.pdf)"
   ]
  },
  {
   "cell_type": "markdown",
   "metadata": {
    "slideshow": {
     "slide_type": "slide"
    }
   },
   "source": [
    "***\n",
    "## Goal 2: Database terminology\n",
    "\n",
    "### Relational Database Schema\n",
    "\n",
    "![schema](./img/MySQL_Schema_Music_Example.png)\n",
    "\n",
    "[source of image](https://database.guide/what-is-a-database-schema/)"
   ]
  },
  {
   "cell_type": "markdown",
   "metadata": {
    "slideshow": {
     "slide_type": "slide"
    }
   },
   "source": [
    "***\n",
    "### SQLite\n",
    "\n",
    "<img src=\"./img/SQLite-Python.jpg\" width=500>\n",
    "\n",
    "\"SQLite is a C library that provides a lightweight disk-based database that doesn’t require a separate server process and allows accessing the database using a nonstandard variant of the SQL query language. Some applications can use SQLite for internal data storage. It’s also possible to prototype an application using SQLite and then port the code to a larger database such as PostgreSQL or Oracle.\" - [sqlite documentation](https://docs.python.org/2/library/sqlite3.html)\n",
    "\n"
   ]
  },
  {
   "cell_type": "markdown",
   "metadata": {
    "slideshow": {
     "slide_type": "slide"
    }
   },
   "source": [
    "## But what about connecting to database servers?\n",
    "\n",
    "To connect to other database types there are many different libraries:\n",
    "- Oracle: [cx_Oracle](https://oracle.github.io/python-cx_Oracle/)\n",
    "- MySQL: [MySQL-python](https://github.com/farcepest/MySQLdb1)\n",
    "- PostgreSQL: [Psycopg2](http://initd.org/psycopg/docs/)\n",
    "- Microsoft SQL Server: [pymssql](http://www.pymssql.org/en/stable/)\n",
    "\n",
    "These all implement [PEP 249: DB API v2](https://www.python.org/dev/peps/pep-0249/)"
   ]
  },
  {
   "cell_type": "markdown",
   "metadata": {
    "slideshow": {
     "slide_type": "slide"
    }
   },
   "source": [
    "### The Structure of a SQL Query"
   ]
  },
  {
   "cell_type": "markdown",
   "metadata": {
    "slideshow": {
     "slide_type": "slide"
    }
   },
   "source": [
    "<img src='./img/sql_statement.jpg'/>"
   ]
  },
  {
   "cell_type": "markdown",
   "metadata": {
    "slideshow": {
     "slide_type": "slide"
    }
   },
   "source": [
    "***\n",
    "## Goal 3: Get going with sqlite!"
   ]
  },
  {
   "cell_type": "code",
   "execution_count": null,
   "metadata": {
    "slideshow": {
     "slide_type": "fragment"
    }
   },
   "outputs": [],
   "source": [
    "import sqlite3"
   ]
  },
  {
   "cell_type": "markdown",
   "metadata": {
    "slideshow": {
     "slide_type": "slide"
    }
   },
   "source": [
    "#### Load a DB object with `connect` and `cursor`\n",
    "\n",
    "**Connection object** is your connection to the database, close that when you're done talking to the database all together. \n",
    "\n",
    "**Cursor object** is an iterator over a result set from a query. "
   ]
  },
  {
   "cell_type": "code",
   "execution_count": null,
   "metadata": {
    "slideshow": {
     "slide_type": "fragment"
    }
   },
   "outputs": [],
   "source": [
    "con = sqlite3.connect('data/flights.db')\n",
    "cursor = con.cursor()"
   ]
  },
  {
   "cell_type": "markdown",
   "metadata": {
    "slideshow": {
     "slide_type": "slide"
    }
   },
   "source": [
    "#### Use sqlite_master to find all the tables in the schema\n",
    "Get the schema of a database from a db in sqlite\n",
    "\n",
    "The `.excecute()` function will execute a sql statement and our `fetchall()` function will give us a list of all rows matching the execute statement."
   ]
  },
  {
   "cell_type": "code",
   "execution_count": null,
   "metadata": {},
   "outputs": [],
   "source": [
    "cursor.execute(\"SELECT name FROM sqlite_master WHERE type='table';\")\n",
    "print(cursor.fetchall())"
   ]
  },
  {
   "cell_type": "code",
   "execution_count": null,
   "metadata": {},
   "outputs": [],
   "source": [
    "cursor.description"
   ]
  },
  {
   "cell_type": "code",
   "execution_count": null,
   "metadata": {},
   "outputs": [],
   "source": [
    "cursor.execute(\"SELECT name, type FROM sqlite_master;\")\n",
    "print(cursor.fetchall())"
   ]
  },
  {
   "cell_type": "markdown",
   "metadata": {
    "slideshow": {
     "slide_type": "slide"
    }
   },
   "source": [
    "#### Get information about one table\n",
    "\n",
    "**A note about** `execute`<br>\n",
    "Each time you use it, you reset the value of cursor"
   ]
  },
  {
   "cell_type": "code",
   "execution_count": null,
   "metadata": {},
   "outputs": [],
   "source": [
    "cursor.execute(\"SELECT * FROM airports as a;\").fetchone()"
   ]
  },
  {
   "cell_type": "code",
   "execution_count": null,
   "metadata": {},
   "outputs": [],
   "source": [
    "cursor.fetchone()"
   ]
  },
  {
   "cell_type": "code",
   "execution_count": null,
   "metadata": {},
   "outputs": [],
   "source": [
    "cursor.fetchmany(4)"
   ]
  },
  {
   "cell_type": "markdown",
   "metadata": {
    "slideshow": {
     "slide_type": "slide"
    }
   },
   "source": [
    "#### Use description"
   ]
  },
  {
   "cell_type": "code",
   "execution_count": null,
   "metadata": {
    "slideshow": {
     "slide_type": "fragment"
    }
   },
   "outputs": [],
   "source": [
    "cursor.description"
   ]
  },
  {
   "cell_type": "markdown",
   "metadata": {
    "slideshow": {
     "slide_type": "slide"
    }
   },
   "source": [
    "#### Or use `Pragma`\n",
    "`Pragma` tool [link here](https://www.sqlite.org/pragma.html#pragma_table_info)\n",
    "\n",
    "**output**<br>\n",
    "`(column id, column name, data type, whether or not the column can be NULL, and the default value for the column)`"
   ]
  },
  {
   "cell_type": "code",
   "execution_count": null,
   "metadata": {
    "slideshow": {
     "slide_type": "slide"
    }
   },
   "outputs": [],
   "source": [
    "cursor.execute(\"PRAGMA table_info(airports);\")\n",
    "info = cursor.fetchall()\n",
    "print(*info, sep = \"\\n\") "
   ]
  },
  {
   "cell_type": "markdown",
   "metadata": {
    "slideshow": {
     "slide_type": "slide"
    }
   },
   "source": [
    "#### Making fetch happen\n",
    "\n",
    "`.fetchall()` is how you get the query results out of the object.\n",
    "\n",
    "You can also `.fetchone()` or `.fetchmany()`"
   ]
  },
  {
   "cell_type": "markdown",
   "metadata": {
    "slideshow": {
     "slide_type": "slide"
    }
   },
   "source": [
    "**Task:** Get the descriptive data for airlines and routes tables"
   ]
  },
  {
   "cell_type": "code",
   "execution_count": null,
   "metadata": {},
   "outputs": [],
   "source": [
    "cursor.execute(\"PRAGMA table_info(airlines);\")\n",
    "info = cursor.fetchall()\n",
    "print(*info, sep = \"\\n\")"
   ]
  },
  {
   "cell_type": "code",
   "execution_count": null,
   "metadata": {},
   "outputs": [],
   "source": [
    "cursor.execute(\"PRAGMA table_info(routes);\")\n",
    "info = cursor.fetchall()\n",
    "print(*info, sep = \"\\n\")"
   ]
  },
  {
   "cell_type": "markdown",
   "metadata": {
    "slideshow": {
     "slide_type": "slide"
    }
   },
   "source": [
    "***\n",
    "## Goal 4: Use basic SQL commands \n",
    "- Construct SQL queries\n",
    "- Use JOIN to merge tables along logical columns\n",
    "- Grouping Data with SQL"
   ]
  },
  {
   "cell_type": "markdown",
   "metadata": {
    "slideshow": {
     "slide_type": "slide"
    }
   },
   "source": [
    "### Construct SQL queries"
   ]
  },
  {
   "cell_type": "markdown",
   "metadata": {
    "slideshow": {
     "slide_type": "fragment"
    }
   },
   "source": [
    "**Select**"
   ]
  },
  {
   "cell_type": "markdown",
   "metadata": {
    "slideshow": {
     "slide_type": "fragment"
    }
   },
   "source": [
    "**From**"
   ]
  },
  {
   "cell_type": "markdown",
   "metadata": {
    "slideshow": {
     "slide_type": "fragment"
    }
   },
   "source": [
    "**Where**"
   ]
  },
  {
   "cell_type": "markdown",
   "metadata": {
    "slideshow": {
     "slide_type": "fragment"
    }
   },
   "source": [
    "**Order by**"
   ]
  },
  {
   "cell_type": "markdown",
   "metadata": {
    "slideshow": {
     "slide_type": "fragment"
    }
   },
   "source": [
    "**Limit**"
   ]
  },
  {
   "cell_type": "markdown",
   "metadata": {
    "slideshow": {
     "slide_type": "slide"
    }
   },
   "source": [
    "#### Options for each:"
   ]
  },
  {
   "cell_type": "markdown",
   "metadata": {
    "slideshow": {
     "slide_type": "fragment"
    }
   },
   "source": [
    "**Select**:  `distinct`, using `as` to rename columns, single number aggregates"
   ]
  },
  {
   "cell_type": "markdown",
   "metadata": {
    "slideshow": {
     "slide_type": "fragment"
    }
   },
   "source": [
    "**From:** also uses aliasing with `as`"
   ]
  },
  {
   "cell_type": "markdown",
   "metadata": {
    "slideshow": {
     "slide_type": "fragment"
    }
   },
   "source": [
    "**Where**: equals is only one `=`, `between`, `in`, wildcards `%`, `AND`, `OR`, `NOT`"
   ]
  },
  {
   "cell_type": "markdown",
   "metadata": {
    "slideshow": {
     "slide_type": "fragment"
    }
   },
   "source": [
    "**Order by**: `asc` and `desc`"
   ]
  },
  {
   "cell_type": "markdown",
   "metadata": {
    "slideshow": {
     "slide_type": "fragment"
    }
   },
   "source": [
    "**Limit**:  #"
   ]
  },
  {
   "cell_type": "markdown",
   "metadata": {
    "slideshow": {
     "slide_type": "slide"
    }
   },
   "source": [
    "**Task**: \n",
    "- Select only active airlines in the UK from the airlines table\n",
    "- Select the unique list of countries with airports"
   ]
  },
  {
   "cell_type": "code",
   "execution_count": null,
   "metadata": {},
   "outputs": [],
   "source": [
    "cursor.execute(\"\"\"\n",
    "SELECT name\n",
    "FROM airlines\n",
    "WHERE active = 'Y'\n",
    "  AND country = 'United Kingdom';\n",
    "\"\"\")\n",
    "cursor.fetchall()"
   ]
  },
  {
   "cell_type": "code",
   "execution_count": null,
   "metadata": {},
   "outputs": [],
   "source": [
    "cursor.execute(\n",
    "\"\"\"\n",
    "SELECT DISTINCT country\n",
    "FROM airports;\n",
    "\"\"\"\n",
    ").fetchall()"
   ]
  },
  {
   "cell_type": "markdown",
   "metadata": {
    "slideshow": {
     "slide_type": "slide"
    }
   },
   "source": [
    "### SQL Joins"
   ]
  },
  {
   "cell_type": "markdown",
   "metadata": {
    "slideshow": {
     "slide_type": "fragment"
    }
   },
   "source": [
    "SQL joins can be used to both **add** data to a table and **remove** data from a table. "
   ]
  },
  {
   "cell_type": "markdown",
   "metadata": {
    "slideshow": {
     "slide_type": "fragment"
    }
   },
   "source": [
    "<img src=\"./img/venn.png\" width=550>"
   ]
  },
  {
   "cell_type": "markdown",
   "metadata": {
    "slideshow": {
     "slide_type": "slide"
    }
   },
   "source": [
    "**Task** Write a query that will join the latitude and longitude data from the airports table to the information on the routes table"
   ]
  },
  {
   "cell_type": "code",
   "execution_count": null,
   "metadata": {
    "slideshow": {
     "slide_type": "skip"
    }
   },
   "outputs": [],
   "source": [
    "cursor.execute(\"\"\"\n",
    "SELECT *\n",
    "FROM routes as r\n",
    "JOIN airports as a\n",
    "ON a.code=r.dest;\n",
    "\"\"\").fetchmany(5)"
   ]
  },
  {
   "cell_type": "markdown",
   "metadata": {
    "slideshow": {
     "slide_type": "slide"
    }
   },
   "source": [
    "### Grouping statements\n",
    "\n",
    "Combines `select` and `group by` when you want aggregates by values"
   ]
  },
  {
   "cell_type": "markdown",
   "metadata": {
    "slideshow": {
     "slide_type": "fragment"
    }
   },
   "source": [
    "`select` `min(x)` ... `max()`, `sum()`, etc"
   ]
  },
  {
   "cell_type": "markdown",
   "metadata": {
    "slideshow": {
     "slide_type": "fragment"
    }
   },
   "source": [
    "`group by x`"
   ]
  },
  {
   "cell_type": "markdown",
   "metadata": {
    "slideshow": {
     "slide_type": "slide"
    }
   },
   "source": [
    "### Let's answer some questions\n",
    "\n",
    "- Which countries have the highest amount of active airlines?\n",
    "- Which countries have the highest amount of inactive airlines?"
   ]
  },
  {
   "cell_type": "code",
   "execution_count": null,
   "metadata": {
    "slideshow": {
     "slide_type": "skip"
    }
   },
   "outputs": [],
   "source": [
    "# Which countries have the highest amount of active airports?\n",
    "cursor.execute(\"\"\"\n",
    "SELECT COUNT() as num, country\n",
    "FROM airlines\n",
    "WHERE active='Y'\n",
    "GROUP BY country\n",
    "HAVING num > 10\n",
    "ORDER BY num DESC\n",
    "LIMIT 30;\n",
    "\"\"\")\n",
    "print(*cursor.fetchall(), sep='\\n')"
   ]
  },
  {
   "cell_type": "code",
   "execution_count": null,
   "metadata": {
    "slideshow": {
     "slide_type": "skip"
    }
   },
   "outputs": [],
   "source": [
    "# Which countries have the highest amount of inactive airports?\n",
    "cursor.execute(\"\"\"\n",
    "SELECT COUNT() num, country\n",
    "FROM airlines\n",
    "WHERE active='N'\n",
    "GROUP BY country\n",
    "HAVING num > 10\n",
    "ORDER BY num DESC\n",
    "LIMIT 30;\n",
    "\"\"\")\n",
    "print(*cursor.fetchall(), sep='\\n')"
   ]
  },
  {
   "cell_type": "markdown",
   "metadata": {
    "slideshow": {
     "slide_type": "slide"
    }
   },
   "source": [
    "### Your turn!\n",
    "\n",
    "In your group write some code to answer the following question:\n",
    "\n",
    "- What are the number of airports for each time zone?  Each row should have a number of airports and a time zone."
   ]
  },
  {
   "cell_type": "code",
   "execution_count": null,
   "metadata": {
    "slideshow": {
     "slide_type": "skip"
    }
   },
   "outputs": [],
   "source": [
    "# What about airports by timezones?\n",
    "cursor.execute(\"\"\"\n",
    "-- your code here;\"\"\")\n",
    "print(*cursor.fetchall(), sep='\\n')"
   ]
  },
  {
   "cell_type": "code",
   "execution_count": null,
   "metadata": {},
   "outputs": [],
   "source": [
    "# It's always a good idea to close our connections when we're done\n",
    "cursor.close()\n",
    "con.close()"
   ]
  },
  {
   "cell_type": "markdown",
   "metadata": {},
   "source": [
    "### Using DB Browser for SQLite \n",
    "\n",
    "![](https://sqlitebrowser.org/images/screenshot.png)\n",
    "\n",
    "DB Browser for SQLite is a high quality, visual, open source tool to create, design, and edit database files compatible with SQLite.\n",
    "\n",
    "DB4S is for users and developers who want to create, search, and edit databases. DB4S uses a familiar spreadsheet-like interface, and complicated SQL commands do not have to be learned.\n",
    "\n",
    "#### Let's practice a few queries in DB Browser for SQLite\n"
   ]
  },
  {
   "cell_type": "markdown",
   "metadata": {
    "slideshow": {
     "slide_type": "slide"
    }
   },
   "source": [
    "## Goal 5: Transfering from sqlite to pandas"
   ]
  },
  {
   "cell_type": "code",
   "execution_count": null,
   "metadata": {
    "slideshow": {
     "slide_type": "fragment"
    }
   },
   "outputs": [],
   "source": [
    "import pandas as pd\n",
    "pd_con = sqlite3.connect(\"./data/flights.db\")\n",
    "df = pd.read_sql_query(\"select * from airports limit 5;\", pd_con)\n",
    "df"
   ]
  },
  {
   "cell_type": "markdown",
   "metadata": {
    "slideshow": {
     "slide_type": "slide"
    }
   },
   "source": [
    "**Task**: \n",
    "Convert one of the earlier queries in the lesson to a pandas data frame"
   ]
  },
  {
   "cell_type": "code",
   "execution_count": null,
   "metadata": {},
   "outputs": [],
   "source": [
    "# Which countries have the highest amount of active airports?\n",
    "sql = '''\n",
    "SELECT COUNT() num, country\n",
    "FROM airlines\n",
    "WHERE active='Y'\n",
    "GROUP BY country\n",
    "HAVING num > 10\n",
    "ORDER BY num DESC\n",
    "LIMIT 30;\n",
    "'''\n",
    "pd.read_sql_query(sql, pd_con)"
   ]
  },
  {
   "cell_type": "code",
   "execution_count": null,
   "metadata": {},
   "outputs": [],
   "source": [
    "pd_con.close()"
   ]
  },
  {
   "cell_type": "markdown",
   "metadata": {
    "slideshow": {
     "slide_type": "slide"
    }
   },
   "source": [
    "## Your Turn!\n",
    "\n",
    "The [Chinook database](https://github.com/lerocha/chinook-database) is a sample database, representing a digital media store.\n",
    "\n",
    "You need to create a query that can rank tracks in term of popularity.\n",
    "\n",
    "The name of the database is `Chinook_Sqlite.sqlite`"
   ]
  },
  {
   "cell_type": "markdown",
   "metadata": {
    "slideshow": {
     "slide_type": "slide"
    }
   },
   "source": [
    "In your group, answer the following questions about the data:\n",
    "- What are the max and min dates in the Invoice table?\n",
    "- What tables would you need to answer \"what is your most popular track?\"\n",
    "- What values from each table?"
   ]
  },
  {
   "cell_type": "code",
   "execution_count": null,
   "metadata": {
    "slideshow": {
     "slide_type": "skip"
    }
   },
   "outputs": [],
   "source": [
    "conn = sqlite3.connect('data/Chinook_Sqlite.sqlite')\n",
    "cur = conn.cursor()"
   ]
  },
  {
   "cell_type": "code",
   "execution_count": null,
   "metadata": {},
   "outputs": [],
   "source": [
    "# What are the max and min dates in the Invoice table?\n",
    "sql = '''\n",
    "-- YOUR CODE HERE\n",
    "'''\n",
    "pd.read_sql_query(sql, conn)"
   ]
  },
  {
   "cell_type": "code",
   "execution_count": null,
   "metadata": {},
   "outputs": [],
   "source": [
    "# What tables would you need to answer \"what is your most popular track?\"\n"
   ]
  },
  {
   "cell_type": "code",
   "execution_count": null,
   "metadata": {},
   "outputs": [],
   "source": [
    "# What values would you need from each table?"
   ]
  },
  {
   "cell_type": "code",
   "execution_count": null,
   "metadata": {},
   "outputs": [],
   "source": [
    "# Put it all together:\n",
    "# You need to create a query that can rank tracks in term of popularity.\n",
    "\n",
    "sql = '''\n",
    "-- YOUR CODE HERE\n",
    "'''\n",
    "pd.read_sql_query(sql, conn)"
   ]
  },
  {
   "cell_type": "code",
   "execution_count": null,
   "metadata": {},
   "outputs": [],
   "source": [
    "# Advanced: get the artist who sang the song!\n",
    "sql = '''\n",
    "-- YOUR CODE HERE\n",
    "'''\n",
    "pd.read_sql_query(sql, conn)"
   ]
  }
 ],
 "metadata": {
  "kernelspec": {
   "display_name": "Python 3",
   "language": "python",
   "name": "python3"
  },
  "language_info": {
   "codemirror_mode": {
    "name": "ipython",
    "version": 3
   },
   "file_extension": ".py",
   "mimetype": "text/x-python",
   "name": "python",
   "nbconvert_exporter": "python",
   "pygments_lexer": "ipython3",
   "version": "3.7.3"
  }
 },
 "nbformat": 4,
 "nbformat_minor": 4
}
